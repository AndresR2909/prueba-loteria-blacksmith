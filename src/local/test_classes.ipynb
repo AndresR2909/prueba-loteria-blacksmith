{
 "cells": [
  {
   "cell_type": "code",
   "execution_count": 1,
   "metadata": {},
   "outputs": [],
   "source": [
    "import sys\n",
    "import os\n",
    "\n",
    "# Obtén la ruta absoluta de la carpeta que contiene este archivo\n",
    "ruta_actual = os.getcwd()\n",
    "\n",
    "# Construye la ruta a la carpeta que contiene 'modulo1.py'\n",
    "ruta_src = os.path.join(ruta_actual, '..')\n",
    "\n",
    "# Agrega la ruta de la carpeta a sys.path\n",
    "sys.path.append(ruta_src)"
   ]
  },
  {
   "cell_type": "code",
   "execution_count": 2,
   "metadata": {},
   "outputs": [],
   "source": [
    "from data_preprocess.data_preprocess import DataPreprocess\n",
    "data_path = \"../data/Txs_LoteriaBlacksmith.xlsx\"\n",
    "p1 = DataPreprocess(data_path, index_column='FechaTx', target_column = 'Cantidad')\n",
    "p1.remove_irrelevant_features(del_columns=['IdCliente','NomProducto','CodProducto'])"
   ]
  },
  {
   "cell_type": "code",
   "execution_count": 3,
   "metadata": {},
   "outputs": [
    {
     "data": {
      "text/plain": [
       "123340"
      ]
     },
     "execution_count": 3,
     "metadata": {},
     "output_type": "execute_result"
    }
   ],
   "source": [
    "array = p1.output_dataframe.groupby(by='CodSDV', sort=True)['Cantidad'].sum().sort_values(ascending=False).head(25).reset_index()['CodSDV'].unique()\n",
    "array = list(array)\n",
    "array[1]"
   ]
  },
  {
   "cell_type": "code",
   "execution_count": 4,
   "metadata": {},
   "outputs": [],
   "source": [
    "p1.filter_dataframe_by_feature(filter_column='CodSDV',filter_value=array[1])"
   ]
  },
  {
   "cell_type": "code",
   "execution_count": 5,
   "metadata": {},
   "outputs": [
    {
     "data": {
      "text/html": [
       "<div>\n",
       "<style scoped>\n",
       "    .dataframe tbody tr th:only-of-type {\n",
       "        vertical-align: middle;\n",
       "    }\n",
       "\n",
       "    .dataframe tbody tr th {\n",
       "        vertical-align: top;\n",
       "    }\n",
       "\n",
       "    .dataframe thead th {\n",
       "        text-align: right;\n",
       "    }\n",
       "</style>\n",
       "<table border=\"1\" class=\"dataframe\">\n",
       "  <thead>\n",
       "    <tr style=\"text-align: right;\">\n",
       "      <th></th>\n",
       "      <th>Genero</th>\n",
       "      <th>CodOficina</th>\n",
       "      <th>CodSDV</th>\n",
       "      <th>CodCanal</th>\n",
       "      <th>FechaTx</th>\n",
       "      <th>HoraTx</th>\n",
       "      <th>Cantidad</th>\n",
       "      <th>Ingreso</th>\n",
       "    </tr>\n",
       "  </thead>\n",
       "  <tbody>\n",
       "    <tr>\n",
       "      <th>509</th>\n",
       "      <td>F</td>\n",
       "      <td>2926401</td>\n",
       "      <td>123340</td>\n",
       "      <td>1</td>\n",
       "      <td>2022-06-03</td>\n",
       "      <td>21</td>\n",
       "      <td>1</td>\n",
       "      <td>3000</td>\n",
       "    </tr>\n",
       "    <tr>\n",
       "      <th>565</th>\n",
       "      <td>SC</td>\n",
       "      <td>2926401</td>\n",
       "      <td>123340</td>\n",
       "      <td>1</td>\n",
       "      <td>2022-06-03</td>\n",
       "      <td>19</td>\n",
       "      <td>1</td>\n",
       "      <td>3000</td>\n",
       "    </tr>\n",
       "    <tr>\n",
       "      <th>569</th>\n",
       "      <td>F</td>\n",
       "      <td>2926401</td>\n",
       "      <td>123340</td>\n",
       "      <td>1</td>\n",
       "      <td>2022-06-03</td>\n",
       "      <td>21</td>\n",
       "      <td>1</td>\n",
       "      <td>3000</td>\n",
       "    </tr>\n",
       "    <tr>\n",
       "      <th>990</th>\n",
       "      <td>SC</td>\n",
       "      <td>2926401</td>\n",
       "      <td>123340</td>\n",
       "      <td>1</td>\n",
       "      <td>2022-06-06</td>\n",
       "      <td>9</td>\n",
       "      <td>22</td>\n",
       "      <td>76000</td>\n",
       "    </tr>\n",
       "    <tr>\n",
       "      <th>1042</th>\n",
       "      <td>SC</td>\n",
       "      <td>2926401</td>\n",
       "      <td>123340</td>\n",
       "      <td>1</td>\n",
       "      <td>2022-06-06</td>\n",
       "      <td>12</td>\n",
       "      <td>23</td>\n",
       "      <td>81000</td>\n",
       "    </tr>\n",
       "    <tr>\n",
       "      <th>...</th>\n",
       "      <td>...</td>\n",
       "      <td>...</td>\n",
       "      <td>...</td>\n",
       "      <td>...</td>\n",
       "      <td>...</td>\n",
       "      <td>...</td>\n",
       "      <td>...</td>\n",
       "      <td>...</td>\n",
       "    </tr>\n",
       "    <tr>\n",
       "      <th>71218</th>\n",
       "      <td>SC</td>\n",
       "      <td>2926401</td>\n",
       "      <td>123340</td>\n",
       "      <td>1</td>\n",
       "      <td>2023-04-14</td>\n",
       "      <td>14</td>\n",
       "      <td>6</td>\n",
       "      <td>16000</td>\n",
       "    </tr>\n",
       "    <tr>\n",
       "      <th>71219</th>\n",
       "      <td>SC</td>\n",
       "      <td>2926401</td>\n",
       "      <td>123340</td>\n",
       "      <td>1</td>\n",
       "      <td>2023-04-14</td>\n",
       "      <td>18</td>\n",
       "      <td>6</td>\n",
       "      <td>30000</td>\n",
       "    </tr>\n",
       "    <tr>\n",
       "      <th>71295</th>\n",
       "      <td>SC</td>\n",
       "      <td>2926401</td>\n",
       "      <td>123340</td>\n",
       "      <td>1</td>\n",
       "      <td>2023-04-14</td>\n",
       "      <td>20</td>\n",
       "      <td>3</td>\n",
       "      <td>19000</td>\n",
       "    </tr>\n",
       "    <tr>\n",
       "      <th>71296</th>\n",
       "      <td>SC</td>\n",
       "      <td>2926401</td>\n",
       "      <td>123340</td>\n",
       "      <td>1</td>\n",
       "      <td>2023-04-14</td>\n",
       "      <td>21</td>\n",
       "      <td>2</td>\n",
       "      <td>4000</td>\n",
       "    </tr>\n",
       "    <tr>\n",
       "      <th>71297</th>\n",
       "      <td>SC</td>\n",
       "      <td>2926401</td>\n",
       "      <td>123340</td>\n",
       "      <td>1</td>\n",
       "      <td>2023-04-14</td>\n",
       "      <td>19</td>\n",
       "      <td>3</td>\n",
       "      <td>6000</td>\n",
       "    </tr>\n",
       "  </tbody>\n",
       "</table>\n",
       "<p>1253 rows × 8 columns</p>\n",
       "</div>"
      ],
      "text/plain": [
       "      Genero  CodOficina  CodSDV  CodCanal    FechaTx  HoraTx  Cantidad  \\\n",
       "509        F     2926401  123340         1 2022-06-03      21         1   \n",
       "565       SC     2926401  123340         1 2022-06-03      19         1   \n",
       "569        F     2926401  123340         1 2022-06-03      21         1   \n",
       "990       SC     2926401  123340         1 2022-06-06       9        22   \n",
       "1042      SC     2926401  123340         1 2022-06-06      12        23   \n",
       "...      ...         ...     ...       ...        ...     ...       ...   \n",
       "71218     SC     2926401  123340         1 2023-04-14      14         6   \n",
       "71219     SC     2926401  123340         1 2023-04-14      18         6   \n",
       "71295     SC     2926401  123340         1 2023-04-14      20         3   \n",
       "71296     SC     2926401  123340         1 2023-04-14      21         2   \n",
       "71297     SC     2926401  123340         1 2023-04-14      19         3   \n",
       "\n",
       "        Ingreso  \n",
       "509        3000  \n",
       "565        3000  \n",
       "569        3000  \n",
       "990       76000  \n",
       "1042      81000  \n",
       "...         ...  \n",
       "71218     16000  \n",
       "71219     30000  \n",
       "71295     19000  \n",
       "71296      4000  \n",
       "71297      6000  \n",
       "\n",
       "[1253 rows x 8 columns]"
      ]
     },
     "execution_count": 5,
     "metadata": {},
     "output_type": "execute_result"
    }
   ],
   "source": [
    "p1.output_dataframe"
   ]
  },
  {
   "cell_type": "code",
   "execution_count": 6,
   "metadata": {},
   "outputs": [],
   "source": [
    "p1.grouped_dataframe_by_feature(grouped_column ='CodSDV')"
   ]
  },
  {
   "cell_type": "code",
   "execution_count": 7,
   "metadata": {},
   "outputs": [
    {
     "data": {
      "text/html": [
       "<div>\n",
       "<style scoped>\n",
       "    .dataframe tbody tr th:only-of-type {\n",
       "        vertical-align: middle;\n",
       "    }\n",
       "\n",
       "    .dataframe tbody tr th {\n",
       "        vertical-align: top;\n",
       "    }\n",
       "\n",
       "    .dataframe thead th {\n",
       "        text-align: right;\n",
       "    }\n",
       "</style>\n",
       "<table border=\"1\" class=\"dataframe\">\n",
       "  <thead>\n",
       "    <tr style=\"text-align: right;\">\n",
       "      <th></th>\n",
       "      <th>FechaTx</th>\n",
       "      <th>Cantidad</th>\n",
       "    </tr>\n",
       "  </thead>\n",
       "  <tbody>\n",
       "    <tr>\n",
       "      <th>0</th>\n",
       "      <td>2022-06-03</td>\n",
       "      <td>3</td>\n",
       "    </tr>\n",
       "    <tr>\n",
       "      <th>1</th>\n",
       "      <td>2022-06-06</td>\n",
       "      <td>78</td>\n",
       "    </tr>\n",
       "    <tr>\n",
       "      <th>2</th>\n",
       "      <td>2022-06-07</td>\n",
       "      <td>94</td>\n",
       "    </tr>\n",
       "    <tr>\n",
       "      <th>3</th>\n",
       "      <td>2022-06-08</td>\n",
       "      <td>81</td>\n",
       "    </tr>\n",
       "    <tr>\n",
       "      <th>4</th>\n",
       "      <td>2022-06-09</td>\n",
       "      <td>59</td>\n",
       "    </tr>\n",
       "    <tr>\n",
       "      <th>...</th>\n",
       "      <td>...</td>\n",
       "      <td>...</td>\n",
       "    </tr>\n",
       "    <tr>\n",
       "      <th>173</th>\n",
       "      <td>2023-03-29</td>\n",
       "      <td>65</td>\n",
       "    </tr>\n",
       "    <tr>\n",
       "      <th>174</th>\n",
       "      <td>2023-04-10</td>\n",
       "      <td>124</td>\n",
       "    </tr>\n",
       "    <tr>\n",
       "      <th>175</th>\n",
       "      <td>2023-04-12</td>\n",
       "      <td>70</td>\n",
       "    </tr>\n",
       "    <tr>\n",
       "      <th>176</th>\n",
       "      <td>2023-04-13</td>\n",
       "      <td>64</td>\n",
       "    </tr>\n",
       "    <tr>\n",
       "      <th>177</th>\n",
       "      <td>2023-04-14</td>\n",
       "      <td>84</td>\n",
       "    </tr>\n",
       "  </tbody>\n",
       "</table>\n",
       "<p>178 rows × 2 columns</p>\n",
       "</div>"
      ],
      "text/plain": [
       "       FechaTx  Cantidad\n",
       "0   2022-06-03         3\n",
       "1   2022-06-06        78\n",
       "2   2022-06-07        94\n",
       "3   2022-06-08        81\n",
       "4   2022-06-09        59\n",
       "..         ...       ...\n",
       "173 2023-03-29        65\n",
       "174 2023-04-10       124\n",
       "175 2023-04-12        70\n",
       "176 2023-04-13        64\n",
       "177 2023-04-14        84\n",
       "\n",
       "[178 rows x 2 columns]"
      ]
     },
     "execution_count": 7,
     "metadata": {},
     "output_type": "execute_result"
    }
   ],
   "source": [
    "p1.output_dataframe"
   ]
  },
  {
   "cell_type": "code",
   "execution_count": 8,
   "metadata": {},
   "outputs": [],
   "source": [
    "p1.completed_timeserie_df()"
   ]
  },
  {
   "cell_type": "code",
   "execution_count": 9,
   "metadata": {},
   "outputs": [
    {
     "data": {
      "text/html": [
       "<div>\n",
       "<style scoped>\n",
       "    .dataframe tbody tr th:only-of-type {\n",
       "        vertical-align: middle;\n",
       "    }\n",
       "\n",
       "    .dataframe tbody tr th {\n",
       "        vertical-align: top;\n",
       "    }\n",
       "\n",
       "    .dataframe thead th {\n",
       "        text-align: right;\n",
       "    }\n",
       "</style>\n",
       "<table border=\"1\" class=\"dataframe\">\n",
       "  <thead>\n",
       "    <tr style=\"text-align: right;\">\n",
       "      <th></th>\n",
       "      <th>Cantidad</th>\n",
       "    </tr>\n",
       "  </thead>\n",
       "  <tbody>\n",
       "    <tr>\n",
       "      <th>2022-06-03</th>\n",
       "      <td>3</td>\n",
       "    </tr>\n",
       "    <tr>\n",
       "      <th>2022-06-04</th>\n",
       "      <td>0</td>\n",
       "    </tr>\n",
       "    <tr>\n",
       "      <th>2022-06-05</th>\n",
       "      <td>0</td>\n",
       "    </tr>\n",
       "    <tr>\n",
       "      <th>2022-06-06</th>\n",
       "      <td>78</td>\n",
       "    </tr>\n",
       "    <tr>\n",
       "      <th>2022-06-07</th>\n",
       "      <td>94</td>\n",
       "    </tr>\n",
       "    <tr>\n",
       "      <th>...</th>\n",
       "      <td>...</td>\n",
       "    </tr>\n",
       "    <tr>\n",
       "      <th>2023-04-10</th>\n",
       "      <td>124</td>\n",
       "    </tr>\n",
       "    <tr>\n",
       "      <th>2023-04-11</th>\n",
       "      <td>0</td>\n",
       "    </tr>\n",
       "    <tr>\n",
       "      <th>2023-04-12</th>\n",
       "      <td>70</td>\n",
       "    </tr>\n",
       "    <tr>\n",
       "      <th>2023-04-13</th>\n",
       "      <td>64</td>\n",
       "    </tr>\n",
       "    <tr>\n",
       "      <th>2023-04-14</th>\n",
       "      <td>84</td>\n",
       "    </tr>\n",
       "  </tbody>\n",
       "</table>\n",
       "<p>316 rows × 1 columns</p>\n",
       "</div>"
      ],
      "text/plain": [
       "            Cantidad\n",
       "2022-06-03         3\n",
       "2022-06-04         0\n",
       "2022-06-05         0\n",
       "2022-06-06        78\n",
       "2022-06-07        94\n",
       "...              ...\n",
       "2023-04-10       124\n",
       "2023-04-11         0\n",
       "2023-04-12        70\n",
       "2023-04-13        64\n",
       "2023-04-14        84\n",
       "\n",
       "[316 rows x 1 columns]"
      ]
     },
     "execution_count": 9,
     "metadata": {},
     "output_type": "execute_result"
    }
   ],
   "source": [
    "p1.output_dataframe"
   ]
  },
  {
   "cell_type": "code",
   "execution_count": 10,
   "metadata": {},
   "outputs": [],
   "source": [
    "p1.feature_generation()\n",
    "p1.handle_missing_values()\n",
    "p1.split_data(split = 7)"
   ]
  },
  {
   "cell_type": "code",
   "execution_count": 11,
   "metadata": {},
   "outputs": [
    {
     "data": {
      "text/html": [
       "<div>\n",
       "<style scoped>\n",
       "    .dataframe tbody tr th:only-of-type {\n",
       "        vertical-align: middle;\n",
       "    }\n",
       "\n",
       "    .dataframe tbody tr th {\n",
       "        vertical-align: top;\n",
       "    }\n",
       "\n",
       "    .dataframe thead th {\n",
       "        text-align: right;\n",
       "    }\n",
       "</style>\n",
       "<table border=\"1\" class=\"dataframe\">\n",
       "  <thead>\n",
       "    <tr style=\"text-align: right;\">\n",
       "      <th></th>\n",
       "      <th>Cantidad</th>\n",
       "      <th>DiaSemana</th>\n",
       "      <th>Mes</th>\n",
       "      <th>Dia</th>\n",
       "      <th>EsQuincena</th>\n",
       "      <th>EsFestivo</th>\n",
       "      <th>media_movil</th>\n",
       "    </tr>\n",
       "    <tr>\n",
       "      <th>index</th>\n",
       "      <th></th>\n",
       "      <th></th>\n",
       "      <th></th>\n",
       "      <th></th>\n",
       "      <th></th>\n",
       "      <th></th>\n",
       "      <th></th>\n",
       "    </tr>\n",
       "  </thead>\n",
       "  <tbody>\n",
       "    <tr>\n",
       "      <th>2022-06-10</th>\n",
       "      <td>110</td>\n",
       "      <td>4</td>\n",
       "      <td>6</td>\n",
       "      <td>10</td>\n",
       "      <td>False</td>\n",
       "      <td>False</td>\n",
       "      <td>45.000000</td>\n",
       "    </tr>\n",
       "    <tr>\n",
       "      <th>2022-06-11</th>\n",
       "      <td>91</td>\n",
       "      <td>5</td>\n",
       "      <td>6</td>\n",
       "      <td>11</td>\n",
       "      <td>False</td>\n",
       "      <td>False</td>\n",
       "      <td>60.285714</td>\n",
       "    </tr>\n",
       "    <tr>\n",
       "      <th>2022-06-12</th>\n",
       "      <td>0</td>\n",
       "      <td>6</td>\n",
       "      <td>6</td>\n",
       "      <td>12</td>\n",
       "      <td>False</td>\n",
       "      <td>False</td>\n",
       "      <td>73.285714</td>\n",
       "    </tr>\n",
       "    <tr>\n",
       "      <th>2022-06-13</th>\n",
       "      <td>39</td>\n",
       "      <td>0</td>\n",
       "      <td>6</td>\n",
       "      <td>13</td>\n",
       "      <td>False</td>\n",
       "      <td>False</td>\n",
       "      <td>73.285714</td>\n",
       "    </tr>\n",
       "    <tr>\n",
       "      <th>2022-06-14</th>\n",
       "      <td>47</td>\n",
       "      <td>1</td>\n",
       "      <td>6</td>\n",
       "      <td>14</td>\n",
       "      <td>False</td>\n",
       "      <td>False</td>\n",
       "      <td>67.714286</td>\n",
       "    </tr>\n",
       "    <tr>\n",
       "      <th>...</th>\n",
       "      <td>...</td>\n",
       "      <td>...</td>\n",
       "      <td>...</td>\n",
       "      <td>...</td>\n",
       "      <td>...</td>\n",
       "      <td>...</td>\n",
       "      <td>...</td>\n",
       "    </tr>\n",
       "    <tr>\n",
       "      <th>2023-04-10</th>\n",
       "      <td>124</td>\n",
       "      <td>0</td>\n",
       "      <td>4</td>\n",
       "      <td>10</td>\n",
       "      <td>False</td>\n",
       "      <td>False</td>\n",
       "      <td>0.000000</td>\n",
       "    </tr>\n",
       "    <tr>\n",
       "      <th>2023-04-11</th>\n",
       "      <td>0</td>\n",
       "      <td>1</td>\n",
       "      <td>4</td>\n",
       "      <td>11</td>\n",
       "      <td>False</td>\n",
       "      <td>False</td>\n",
       "      <td>17.714286</td>\n",
       "    </tr>\n",
       "    <tr>\n",
       "      <th>2023-04-12</th>\n",
       "      <td>70</td>\n",
       "      <td>2</td>\n",
       "      <td>4</td>\n",
       "      <td>12</td>\n",
       "      <td>False</td>\n",
       "      <td>False</td>\n",
       "      <td>17.714286</td>\n",
       "    </tr>\n",
       "    <tr>\n",
       "      <th>2023-04-13</th>\n",
       "      <td>64</td>\n",
       "      <td>3</td>\n",
       "      <td>4</td>\n",
       "      <td>13</td>\n",
       "      <td>False</td>\n",
       "      <td>False</td>\n",
       "      <td>27.714286</td>\n",
       "    </tr>\n",
       "    <tr>\n",
       "      <th>2023-04-14</th>\n",
       "      <td>84</td>\n",
       "      <td>4</td>\n",
       "      <td>4</td>\n",
       "      <td>14</td>\n",
       "      <td>False</td>\n",
       "      <td>False</td>\n",
       "      <td>36.857143</td>\n",
       "    </tr>\n",
       "  </tbody>\n",
       "</table>\n",
       "<p>309 rows × 7 columns</p>\n",
       "</div>"
      ],
      "text/plain": [
       "            Cantidad  DiaSemana  Mes  Dia  EsQuincena  EsFestivo  media_movil\n",
       "index                                                                        \n",
       "2022-06-10       110          4    6   10       False      False    45.000000\n",
       "2022-06-11        91          5    6   11       False      False    60.285714\n",
       "2022-06-12         0          6    6   12       False      False    73.285714\n",
       "2022-06-13        39          0    6   13       False      False    73.285714\n",
       "2022-06-14        47          1    6   14       False      False    67.714286\n",
       "...              ...        ...  ...  ...         ...        ...          ...\n",
       "2023-04-10       124          0    4   10       False      False     0.000000\n",
       "2023-04-11         0          1    4   11       False      False    17.714286\n",
       "2023-04-12        70          2    4   12       False      False    17.714286\n",
       "2023-04-13        64          3    4   13       False      False    27.714286\n",
       "2023-04-14        84          4    4   14       False      False    36.857143\n",
       "\n",
       "[309 rows x 7 columns]"
      ]
     },
     "execution_count": 11,
     "metadata": {},
     "output_type": "execute_result"
    }
   ],
   "source": [
    "p1.output_dataframe"
   ]
  },
  {
   "cell_type": "code",
   "execution_count": 12,
   "metadata": {},
   "outputs": [],
   "source": [
    "from train.forecaster_model import ForecasterModel"
   ]
  },
  {
   "cell_type": "code",
   "execution_count": 13,
   "metadata": {},
   "outputs": [],
   "source": [
    "y = 'Cantidad'\n",
    "steps = 7\n",
    "sel_exog = ['Mes', 'Dia','media_movil']#, 'DiaSemana','EsQuincena', 'EsFestivo']\n",
    "data_train = p1.data_train\n",
    "data_test  = p1.data_test\n",
    "# Lags used as predictors\n",
    "lags_grid = [7, 21, 60]#[7, 14, 21, 30, 60]\n",
    "metric = ['mean_absolute_error','mean_squared_error']"
   ]
  },
  {
   "cell_type": "code",
   "execution_count": 14,
   "metadata": {},
   "outputs": [],
   "source": [
    "forecaster_model = ForecasterModel(steps,lags_grid,metric)"
   ]
  },
  {
   "cell_type": "code",
   "execution_count": 15,
   "metadata": {},
   "outputs": [
    {
     "name": "stdout",
     "output_type": "stream",
     "text": [
      "Number of models compared: 30.\n"
     ]
    },
    {
     "name": "stderr",
     "output_type": "stream",
     "text": [
      "lags grid: 100%|██████████| 3/3 [00:00<00:00,  3.33it/s]\n"
     ]
    },
    {
     "name": "stdout",
     "output_type": "stream",
     "text": [
      "`Forecaster` refitted using the best-found lags and parameters, and the whole data set: \n",
      "  Lags: [ 1  2  3  4  5  6  7  8  9 10 11 12 13 14 15 16 17 18 19 20 21 22 23 24\n",
      " 25 26 27 28 29 30 31 32 33 34 35 36 37 38 39 40 41 42 43 44 45 46 47 48\n",
      " 49 50 51 52 53 54 55 56 57 58 59 60] \n",
      "  Parameters: {'ridge__alpha': 0.46415888336127775}\n",
      "  Backtesting metric: 30.718243624432443\n",
      "\n",
      "Modelo ridge ha sido entrenado\n",
      "Number of models compared: 144.\n"
     ]
    },
    {
     "name": "stderr",
     "output_type": "stream",
     "text": [
      "lags grid: 100%|██████████| 3/3 [00:30<00:00, 10.10s/it]\n"
     ]
    },
    {
     "name": "stdout",
     "output_type": "stream",
     "text": [
      "`Forecaster` refitted using the best-found lags and parameters, and the whole data set: \n",
      "  Lags: [ 1  2  3  4  5  6  7  8  9 10 11 12 13 14 15 16 17 18 19 20 21] \n",
      "  Parameters: {'xgbregressor__colsample_bytree': 0.6, 'xgbregressor__gamma': 1, 'xgbregressor__max_depth': 5, 'xgbregressor__min_child_weight': 1, 'xgbregressor__subsample': 1}\n",
      "  Backtesting metric: 27.418021448322985\n",
      "\n",
      "Modelo xgbregressor ha sido entrenado\n",
      "Number of models compared: 30.\n"
     ]
    },
    {
     "name": "stderr",
     "output_type": "stream",
     "text": [
      "params grid:  30%|███       | 9/30 [00:46<02:36,  7.47s/it]c:\\repos\\prueba-loteria-blacksmith\\.conda\\lib\\site-packages\\statsmodels\\base\\model.py:607: ConvergenceWarning: Maximum Likelihood optimization failed to converge. Check mle_retvals\n",
      "  warnings.warn(\"Maximum Likelihood optimization failed to \"\n",
      "params grid:  33%|███▎      | 10/30 [01:20<05:15, 15.78s/it]c:\\repos\\prueba-loteria-blacksmith\\.conda\\lib\\site-packages\\statsmodels\\base\\model.py:607: ConvergenceWarning: Maximum Likelihood optimization failed to converge. Check mle_retvals\n",
      "  warnings.warn(\"Maximum Likelihood optimization failed to \"\n",
      "params grid:  37%|███▋      | 11/30 [01:52<06:32, 20.64s/it]c:\\repos\\prueba-loteria-blacksmith\\.conda\\lib\\site-packages\\statsmodels\\base\\model.py:607: ConvergenceWarning: Maximum Likelihood optimization failed to converge. Check mle_retvals\n",
      "  warnings.warn(\"Maximum Likelihood optimization failed to \"\n",
      "params grid:  40%|████      | 12/30 [02:23<07:09, 23.84s/it]c:\\repos\\prueba-loteria-blacksmith\\.conda\\lib\\site-packages\\statsmodels\\base\\model.py:607: ConvergenceWarning: Maximum Likelihood optimization failed to converge. Check mle_retvals\n",
      "  warnings.warn(\"Maximum Likelihood optimization failed to \"\n",
      "params grid:  43%|████▎     | 13/30 [03:02<08:04, 28.53s/it]c:\\repos\\prueba-loteria-blacksmith\\.conda\\lib\\site-packages\\statsmodels\\base\\model.py:607: ConvergenceWarning: Maximum Likelihood optimization failed to converge. Check mle_retvals\n",
      "  warnings.warn(\"Maximum Likelihood optimization failed to \"\n",
      "params grid:  47%|████▋     | 14/30 [03:33<07:45, 29.12s/it]c:\\repos\\prueba-loteria-blacksmith\\.conda\\lib\\site-packages\\statsmodels\\base\\model.py:607: ConvergenceWarning: Maximum Likelihood optimization failed to converge. Check mle_retvals\n",
      "  warnings.warn(\"Maximum Likelihood optimization failed to \"\n",
      "params grid:  80%|████████  | 24/30 [05:28<01:25, 14.27s/it]c:\\repos\\prueba-loteria-blacksmith\\.conda\\lib\\site-packages\\statsmodels\\base\\model.py:607: ConvergenceWarning: Maximum Likelihood optimization failed to converge. Check mle_retvals\n",
      "  warnings.warn(\"Maximum Likelihood optimization failed to \"\n",
      "params grid:  83%|████████▎ | 25/30 [06:51<02:53, 34.75s/it]c:\\repos\\prueba-loteria-blacksmith\\.conda\\lib\\site-packages\\statsmodels\\base\\model.py:607: ConvergenceWarning: Maximum Likelihood optimization failed to converge. Check mle_retvals\n",
      "  warnings.warn(\"Maximum Likelihood optimization failed to \"\n",
      "params grid:  87%|████████▋ | 26/30 [07:57<02:57, 44.30s/it]c:\\repos\\prueba-loteria-blacksmith\\.conda\\lib\\site-packages\\statsmodels\\base\\model.py:607: ConvergenceWarning: Maximum Likelihood optimization failed to converge. Check mle_retvals\n",
      "  warnings.warn(\"Maximum Likelihood optimization failed to \"\n",
      "params grid:  90%|█████████ | 27/30 [09:05<02:33, 51.26s/it]c:\\repos\\prueba-loteria-blacksmith\\.conda\\lib\\site-packages\\statsmodels\\base\\model.py:607: ConvergenceWarning: Maximum Likelihood optimization failed to converge. Check mle_retvals\n",
      "  warnings.warn(\"Maximum Likelihood optimization failed to \"\n",
      "params grid:  93%|█████████▎| 28/30 [10:17<01:54, 57.48s/it]c:\\repos\\prueba-loteria-blacksmith\\.conda\\lib\\site-packages\\statsmodels\\base\\model.py:607: ConvergenceWarning: Maximum Likelihood optimization failed to converge. Check mle_retvals\n",
      "  warnings.warn(\"Maximum Likelihood optimization failed to \"\n",
      "params grid:  97%|█████████▋| 29/30 [11:22<00:59, 59.63s/it]c:\\repos\\prueba-loteria-blacksmith\\.conda\\lib\\site-packages\\statsmodels\\base\\model.py:607: ConvergenceWarning: Maximum Likelihood optimization failed to converge. Check mle_retvals\n",
      "  warnings.warn(\"Maximum Likelihood optimization failed to \"\n",
      "params grid: 100%|██████████| 30/30 [12:33<00:00, 25.10s/it]\n"
     ]
    },
    {
     "name": "stdout",
     "output_type": "stream",
     "text": [
      "`Forecaster` refitted using the best-found parameters, and the whole data set: \n",
      "  Parameters: {'order': (7, 0, 0), 'seasonal_order': (0, 0, 0, 0), 'trend': 'n'}\n",
      "  Backtesting metric: 28.612083329595873\n",
      "\n",
      "Modelo arima ha sido entrenado\n",
      "Number of models compared: 180.\n"
     ]
    },
    {
     "name": "stderr",
     "output_type": "stream",
     "text": [
      "lags grid: 100%|██████████| 3/3 [04:02<00:00, 80.91s/it]\n"
     ]
    },
    {
     "name": "stdout",
     "output_type": "stream",
     "text": [
      "`Forecaster` refitted using the best-found lags and parameters, and the whole data set: \n",
      "  Lags: [ 1  2  3  4  5  6  7  8  9 10 11 12 13 14 15 16 17 18 19 20 21 22 23 24\n",
      " 25 26 27 28 29 30 31 32 33 34 35 36 37 38 39 40 41 42 43 44 45 46 47 48\n",
      " 49 50 51 52 53 54 55 56 57 58 59 60] \n",
      "  Parameters: {'mlpregressor__activation': 'relu', 'mlpregressor__alpha': 0.0001, 'mlpregressor__hidden_layer_sizes': (50, 50), 'mlpregressor__learning_rate': 'constant', 'mlpregressor__solver': 'adam'}\n",
      "  Backtesting metric: 28.079467923801868\n",
      "\n",
      "Modelo mlpregressor ha sido entrenado\n"
     ]
    }
   ],
   "source": [
    "forecaster_model.train_model(data_train,y)"
   ]
  },
  {
   "cell_type": "code",
   "execution_count": 16,
   "metadata": {},
   "outputs": [
    {
     "data": {
      "text/plain": [
       "{'ridge': {'model': Ridge(random_state=123),\n",
       "  'hiperparameters': {'ridge__alpha': array([1.00000000e-03, 7.74263683e-03, 5.99484250e-02, 4.64158883e-01,\n",
       "          3.59381366e+00, 2.78255940e+01, 2.15443469e+02, 1.66810054e+03,\n",
       "          1.29154967e+04, 1.00000000e+05])},\n",
       "  'trained_model': ================= \n",
       "  ForecasterAutoreg \n",
       "  ================= \n",
       "  Regressor: Pipeline(steps=[('minmaxscaler', MinMaxScaler()),\n",
       "                  ('ridge', Ridge(alpha=0.46415888336127775, random_state=123))]) \n",
       "  Lags: [ 1  2  3  4  5  6  7  8  9 10 11 12 13 14 15 16 17 18 19 20 21 22 23 24\n",
       "   25 26 27 28 29 30 31 32 33 34 35 36 37 38 39 40 41 42 43 44 45 46 47 48\n",
       "   49 50 51 52 53 54 55 56 57 58 59 60] \n",
       "  Transformer for y: None \n",
       "  Transformer for exog: None \n",
       "  Window size: 60 \n",
       "  Weight function included: False \n",
       "  Exogenous included: False \n",
       "  Type of exogenous variable: None \n",
       "  Exogenous variables names: None \n",
       "  Training range: [Timestamp('2022-06-10 00:00:00'), Timestamp('2023-04-07 00:00:00')] \n",
       "  Training index type: DatetimeIndex \n",
       "  Training index frequency: D \n",
       "  Regressor parameters: {'minmaxscaler__clip': False, 'minmaxscaler__copy': True, 'minmaxscaler__feature_range': (0, 1), 'ridge__alpha': 0.46415888336127775, 'ridge__copy_X': True, 'ridge__fit_intercept': True, 'ridge__max_iter': None, 'ridge__positive': False, 'ridge__random_state': 123, 'ridge__solver': 'auto', 'ridge__tol': 0.0001} \n",
       "  fit_kwargs: {} \n",
       "  Creation date: 2023-07-19 08:11:27 \n",
       "  Last fit date: 2023-07-19 08:11:28 \n",
       "  Skforecast version: 0.9.1 \n",
       "  Python version: 3.10.12 \n",
       "  Forecaster id: None },\n",
       " 'xgbregressor': {'model': XGBRegressor(base_score=None, booster=None, callbacks=None,\n",
       "               colsample_bylevel=None, colsample_bynode=None,\n",
       "               colsample_bytree=None, early_stopping_rounds=None,\n",
       "               enable_categorical=False, eval_metric=None, feature_types=None,\n",
       "               gamma=None, gpu_id=None, grow_policy=None, importance_type=None,\n",
       "               interaction_constraints=None, learning_rate=None, max_bin=None,\n",
       "               max_cat_threshold=None, max_cat_to_onehot=None,\n",
       "               max_delta_step=None, max_depth=None, max_leaves=None,\n",
       "               min_child_weight=None, missing=nan, monotone_constraints=None,\n",
       "               n_estimators=100, n_jobs=None, num_parallel_tree=None,\n",
       "               predictor=None, random_state=123, ...),\n",
       "  'hiperparameters': {'xgbregressor__min_child_weight': [1, 5],\n",
       "   'xgbregressor__gamma': [0.5, 1, 2],\n",
       "   'xgbregressor__subsample': [0.6, 1],\n",
       "   'xgbregressor__colsample_bytree': [0.6, 1],\n",
       "   'xgbregressor__max_depth': [3, 5]},\n",
       "  'trained_model': ================= \n",
       "  ForecasterAutoreg \n",
       "  ================= \n",
       "  Regressor: Pipeline(steps=[('minmaxscaler', MinMaxScaler()),\n",
       "                  ('xgbregressor',\n",
       "                   XGBRegressor(base_score=None, booster=None, callbacks=None,\n",
       "                                colsample_bylevel=None, colsample_bynode=None,\n",
       "                                colsample_bytree=0.6, early_stopping_rounds=None,\n",
       "                                enable_categorical=False, eval_metric=None,\n",
       "                                feature_types=None, gamma=1, gpu_id=None,\n",
       "                                grow_policy=None, importance_type=None,\n",
       "                                interaction_constraints=None, learning_rate=None,\n",
       "                                max_bin=None, max_cat_threshold=None,\n",
       "                                max_cat_to_onehot=None, max_delta_step=None,\n",
       "                                max_depth=5, max_leaves=None, min_child_weight=1,\n",
       "                                missing=nan, monotone_constraints=None,\n",
       "                                n_estimators=100, n_jobs=None,\n",
       "                                num_parallel_tree=None, predictor=None,\n",
       "                                random_state=123, ...))]) \n",
       "  Lags: [ 1  2  3  4  5  6  7  8  9 10 11 12 13 14 15 16 17 18 19 20 21] \n",
       "  Transformer for y: None \n",
       "  Transformer for exog: None \n",
       "  Window size: 21 \n",
       "  Weight function included: False \n",
       "  Exogenous included: False \n",
       "  Type of exogenous variable: None \n",
       "  Exogenous variables names: None \n",
       "  Training range: [Timestamp('2022-06-10 00:00:00'), Timestamp('2023-04-07 00:00:00')] \n",
       "  Training index type: DatetimeIndex \n",
       "  Training index frequency: D \n",
       "  Regressor parameters: {'minmaxscaler__clip': False, 'minmaxscaler__copy': True, 'minmaxscaler__feature_range': (0, 1), 'xgbregressor__objective': 'reg:squarederror', 'xgbregressor__base_score': None, 'xgbregressor__booster': None, 'xgbregressor__callbacks': None, 'xgbregressor__colsample_bylevel': None, 'xgbregressor__colsample_bynode': None, 'xgbregressor__colsample_bytree': 0.6, 'xgbregressor__early_stopping_rounds': None, 'xgbregressor__enable_categorical': False, 'xgbregressor__eval_metric': None, 'xgbregressor__feature_types': None, 'xgbregressor__gamma': 1, 'xgbregressor__gpu_id': None, 'xgbregressor__grow_policy': None, 'xgbregressor__importance_type': None, 'xgbregressor__interaction_constraints': None, 'xgbregressor__learning_rate': None, 'xgbregressor__max_bin': None, 'xgbregressor__max_cat_threshold': None, 'xgbregressor__max_cat_to_onehot': None, 'xgbregressor__max_delta_step': None, 'xgbregressor__max_depth': 5, 'xgbregressor__max_leaves': None, 'xgbregressor__min_child_weight': 1, 'xgbregressor__missing': nan, 'xgbregressor__monotone_constraints': None, 'xgbregressor__n_estimators': 100, 'xgbregressor__n_jobs': None, 'xgbregressor__num_parallel_tree': None, 'xgbregressor__predictor': None, 'xgbregressor__random_state': 123, 'xgbregressor__reg_alpha': None, 'xgbregressor__reg_lambda': None, 'xgbregressor__sampling_method': None, 'xgbregressor__scale_pos_weight': None, 'xgbregressor__subsample': 1, 'xgbregressor__tree_method': None, 'xgbregressor__validate_parameters': None, 'xgbregressor__verbosity': None} \n",
       "  fit_kwargs: {} \n",
       "  Creation date: 2023-07-19 08:11:28 \n",
       "  Last fit date: 2023-07-19 08:11:59 \n",
       "  Skforecast version: 0.9.1 \n",
       "  Python version: 3.10.12 \n",
       "  Forecaster id: None },\n",
       " 'arima': {'model': ARIMA(maxiter=200, order=(12, 1, 1)),\n",
       "  'hiperparameters': {'order': [(7, 0, 0),\n",
       "    (7, 1, 0),\n",
       "    (7, 1, 1),\n",
       "    (7, 0, 7),\n",
       "    (7, 1, 7),\n",
       "    (14, 0, 0),\n",
       "    (14, 1, 0),\n",
       "    (14, 1, 1),\n",
       "    (14, 0, 7),\n",
       "    (14, 1, 7)],\n",
       "   'seasonal_order': [(0, 0, 0, 0)],\n",
       "   'trend': [None, 'n', 'c']},\n",
       "  'trained_model': ================= \n",
       "  ForecasterSarimax \n",
       "  ================= \n",
       "  Regressor:  ARIMA(7,0,0)(0,0,0)[0] intercept \n",
       "  Regressor parameters: {'maxiter': 200, 'method': 'lbfgs', 'order': (7, 0, 0), 'out_of_sample_size': 0, 'scoring': 'mse', 'scoring_args': None, 'seasonal_order': (0, 0, 0, 0), 'start_params': None, 'suppress_warnings': False, 'trend': 'n', 'with_intercept': True} \n",
       "  fit_kwargs: {} \n",
       "  Window size: 1 \n",
       "  Transformer for y: MinMaxScaler() \n",
       "  Transformer for exog: None \n",
       "  Exogenous included: False \n",
       "  Type of exogenous variable: None \n",
       "  Exogenous variables names: None \n",
       "  Training range: [Timestamp('2022-06-10 00:00:00'), Timestamp('2023-04-07 00:00:00')] \n",
       "  Training index type: DatetimeIndex \n",
       "  Training index frequency: D \n",
       "  Creation date: 2023-07-19 08:11:59 \n",
       "  Last fit date: 2023-07-19 08:24:32 \n",
       "  Index seen by the forecaster: DatetimeIndex(['2022-06-10', '2022-06-11', '2022-06-12', '2022-06-13',\n",
       "                 '2022-06-14', '2022-06-15', '2022-06-16', '2022-06-17',\n",
       "                 '2022-06-18', '2022-06-19',\n",
       "                 ...\n",
       "                 '2023-03-29', '2023-03-30', '2023-03-31', '2023-04-01',\n",
       "                 '2023-04-02', '2023-04-03', '2023-04-04', '2023-04-05',\n",
       "                 '2023-04-06', '2023-04-07'],\n",
       "                dtype='datetime64[ns]', name='index', length=302, freq='D') \n",
       "  Skforecast version: 0.9.1 \n",
       "  Python version: 3.10.12 \n",
       "  Forecaster id: None },\n",
       " 'mlpregressor': {'model': MLPRegressor(max_iter=500, random_state=123),\n",
       "  'hiperparameters': {'mlpregressor__hidden_layer_sizes': [(50, 1),\n",
       "    (100, 1),\n",
       "    (300, 1),\n",
       "    (50, 50),\n",
       "    (100, 100)],\n",
       "   'mlpregressor__activation': ['relu', 'tanh', 'logistic'],\n",
       "   'mlpregressor__alpha': [0.0001, 0.05],\n",
       "   'mlpregressor__learning_rate': ['constant', 'adaptive'],\n",
       "   'mlpregressor__solver': ['adam']},\n",
       "  'trained_model': ================= \n",
       "  ForecasterAutoreg \n",
       "  ================= \n",
       "  Regressor: Pipeline(steps=[('minmaxscaler', MinMaxScaler()),\n",
       "                  ('mlpregressor',\n",
       "                   MLPRegressor(hidden_layer_sizes=(50, 50), max_iter=500,\n",
       "                                random_state=123))]) \n",
       "  Lags: [ 1  2  3  4  5  6  7  8  9 10 11 12 13 14 15 16 17 18 19 20 21 22 23 24\n",
       "   25 26 27 28 29 30 31 32 33 34 35 36 37 38 39 40 41 42 43 44 45 46 47 48\n",
       "   49 50 51 52 53 54 55 56 57 58 59 60] \n",
       "  Transformer for y: None \n",
       "  Transformer for exog: None \n",
       "  Window size: 60 \n",
       "  Weight function included: False \n",
       "  Exogenous included: False \n",
       "  Type of exogenous variable: None \n",
       "  Exogenous variables names: None \n",
       "  Training range: [Timestamp('2022-06-10 00:00:00'), Timestamp('2023-04-07 00:00:00')] \n",
       "  Training index type: DatetimeIndex \n",
       "  Training index frequency: D \n",
       "  Regressor parameters: {'minmaxscaler__clip': False, 'minmaxscaler__copy': True, 'minmaxscaler__feature_range': (0, 1), 'mlpregressor__activation': 'relu', 'mlpregressor__alpha': 0.0001, 'mlpregressor__batch_size': 'auto', 'mlpregressor__beta_1': 0.9, 'mlpregressor__beta_2': 0.999, 'mlpregressor__early_stopping': False, 'mlpregressor__epsilon': 1e-08, 'mlpregressor__hidden_layer_sizes': (50, 50), 'mlpregressor__learning_rate': 'constant', 'mlpregressor__learning_rate_init': 0.001, 'mlpregressor__max_fun': 15000, 'mlpregressor__max_iter': 500, 'mlpregressor__momentum': 0.9, 'mlpregressor__n_iter_no_change': 10, 'mlpregressor__nesterovs_momentum': True, 'mlpregressor__power_t': 0.5, 'mlpregressor__random_state': 123, 'mlpregressor__shuffle': True, 'mlpregressor__solver': 'adam', 'mlpregressor__tol': 0.0001, 'mlpregressor__validation_fraction': 0.1, 'mlpregressor__verbose': False, 'mlpregressor__warm_start': False} \n",
       "  fit_kwargs: {} \n",
       "  Creation date: 2023-07-19 08:24:32 \n",
       "  Last fit date: 2023-07-19 08:28:36 \n",
       "  Skforecast version: 0.9.1 \n",
       "  Python version: 3.10.12 \n",
       "  Forecaster id: None }}"
      ]
     },
     "execution_count": 16,
     "metadata": {},
     "output_type": "execute_result"
    }
   ],
   "source": [
    "forecaster_model.models"
   ]
  },
  {
   "cell_type": "code",
   "execution_count": 17,
   "metadata": {},
   "outputs": [
    {
     "name": "stdout",
     "output_type": "stream",
     "text": [
      "----------------------------------------\n",
      "Métricas de modelo ridge:\n",
      "--mse: 2287.477642838122\n",
      "--mape: 4.400687539033906e+16\n",
      "--r2: -0.08787953741622001\n",
      "----------------------------------------\n",
      "Métricas de modelo xgbregressor:\n",
      "--mse: 3005.2167926836596\n",
      "--mape: 6.428886823712475e+16\n",
      "--r2: -0.4292222109781363\n",
      "----------------------------------------\n",
      "Métricas de modelo arima:\n",
      "--mse: 4489.714285714285\n",
      "--mape: 0.7478683948328134\n",
      "--r2: -1.1352201257861636\n",
      "----------------------------------------\n",
      "Métricas de modelo mlpregressor:\n",
      "--mse: 3265.5612927664197\n",
      "--mape: 2.629839849524146e+16\n",
      "--r2: -0.5530369530393915\n"
     ]
    }
   ],
   "source": [
    "forecaster_model.evaluate_models(data_test)"
   ]
  },
  {
   "cell_type": "code",
   "execution_count": 18,
   "metadata": {},
   "outputs": [
    {
     "data": {
      "text/plain": [
       "{'ridge': {'mse': 2287.477642838122,\n",
       "  'mape': 4.400687539033906e+16,\n",
       "  'r2': -0.08787953741622001},\n",
       " 'xgbregressor': {'mse': 3005.2167926836596,\n",
       "  'mape': 6.428886823712475e+16,\n",
       "  'r2': -0.4292222109781363},\n",
       " 'arima': {'mse': 4489.714285714285,\n",
       "  'mape': 0.7478683948328134,\n",
       "  'r2': -1.1352201257861636},\n",
       " 'mlpregressor': {'mse': 3265.5612927664197,\n",
       "  'mape': 2.629839849524146e+16,\n",
       "  'r2': -0.5530369530393915}}"
      ]
     },
     "execution_count": 18,
     "metadata": {},
     "output_type": "execute_result"
    }
   ],
   "source": [
    "forecaster_model.results"
   ]
  },
  {
   "cell_type": "code",
   "execution_count": 19,
   "metadata": {},
   "outputs": [],
   "source": [
    "resultado_prueba = {'ridge': {'mse': 2287.477642838122,\n",
    "  'mape': 4.400687539033906e+16,\n",
    "  'r2': -0.08787953741622001},\n",
    " 'xgbregressor': {'mse': 3005.2167926836596,\n",
    "  'mape': 6.428886823712475e+16,\n",
    "  'r2': -0.4292222109781363},\n",
    " 'arima': {'mse': 4489.714285714285,\n",
    "  'mape': 0.7478683948328134,\n",
    "  'r2': -1.1352201257861636},\n",
    " 'mlpregressor': {'mse': 3265.5612927664197,\n",
    "  'mape': 2.629839849524146e+16,\n",
    "  'r2': -0.5530369530393915}}"
   ]
  },
  {
   "cell_type": "code",
   "execution_count": 20,
   "metadata": {},
   "outputs": [],
   "source": [
    "from train.competition import MetricsCompetition"
   ]
  },
  {
   "cell_type": "code",
   "execution_count": 21,
   "metadata": {},
   "outputs": [],
   "source": [
    "\n",
    "competition = MetricsCompetition(resultado_prueba)"
   ]
  },
  {
   "cell_type": "code",
   "execution_count": 22,
   "metadata": {},
   "outputs": [
    {
     "data": {
      "text/plain": [
       "{'ridge': {'mse': 2287.477642838122,\n",
       "  'mape': 4.400687539033906e+16,\n",
       "  'r2': -0.08787953741622001},\n",
       " 'xgbregressor': {'mse': 3005.2167926836596,\n",
       "  'mape': 6.428886823712475e+16,\n",
       "  'r2': -0.4292222109781363},\n",
       " 'arima': {'mse': 4489.714285714285,\n",
       "  'mape': 0.7478683948328134,\n",
       "  'r2': -1.1352201257861636},\n",
       " 'mlpregressor': {'mse': 3265.5612927664197,\n",
       "  'mape': 2.629839849524146e+16,\n",
       "  'r2': -0.5530369530393915}}"
      ]
     },
     "execution_count": 22,
     "metadata": {},
     "output_type": "execute_result"
    }
   ],
   "source": [
    "competition.results"
   ]
  },
  {
   "cell_type": "code",
   "execution_count": 23,
   "metadata": {},
   "outputs": [
    {
     "data": {
      "text/plain": [
       "dict_keys(['mse', 'mape', 'r2'])"
      ]
     },
     "execution_count": 23,
     "metadata": {},
     "output_type": "execute_result"
    }
   ],
   "source": [
    "competition.available_metrics"
   ]
  },
  {
   "cell_type": "code",
   "execution_count": 24,
   "metadata": {},
   "outputs": [],
   "source": [
    "winner_name, winner_metrics = competition.evaluated_best_model()"
   ]
  },
  {
   "cell_type": "code",
   "execution_count": 25,
   "metadata": {},
   "outputs": [
    {
     "data": {
      "text/plain": [
       "{'mse': 2287.477642838122,\n",
       " 'mape': 4.400687539033906e+16,\n",
       " 'r2': -0.08787953741622001}"
      ]
     },
     "execution_count": 25,
     "metadata": {},
     "output_type": "execute_result"
    }
   ],
   "source": [
    "winner_metrics"
   ]
  },
  {
   "cell_type": "code",
   "execution_count": 26,
   "metadata": {},
   "outputs": [
    {
     "data": {
      "text/plain": [
       "'ridge'"
      ]
     },
     "execution_count": 26,
     "metadata": {},
     "output_type": "execute_result"
    }
   ],
   "source": [
    "winner_name"
   ]
  },
  {
   "cell_type": "code",
   "execution_count": 27,
   "metadata": {},
   "outputs": [
    {
     "data": {
      "text/plain": [
       "'ridge'"
      ]
     },
     "execution_count": 27,
     "metadata": {},
     "output_type": "execute_result"
    }
   ],
   "source": [
    "competition.best_model"
   ]
  },
  {
   "cell_type": "code",
   "execution_count": 28,
   "metadata": {},
   "outputs": [
    {
     "data": {
      "text/plain": [
       "{'mse': 2287.477642838122,\n",
       " 'mape': 4.400687539033906e+16,\n",
       " 'r2': -0.08787953741622001}"
      ]
     },
     "execution_count": 28,
     "metadata": {},
     "output_type": "execute_result"
    }
   ],
   "source": [
    "competition.best_metrics\n"
   ]
  },
  {
   "cell_type": "code",
   "execution_count": 29,
   "metadata": {},
   "outputs": [
    {
     "name": "stdout",
     "output_type": "stream",
     "text": [
      "winner: ridge  metrics = {'mse': 2287.477642838122, 'mape': 4.400687539033906e+16, 'r2': -0.08787953741622001}\n"
     ]
    }
   ],
   "source": [
    "forecaster_model.select_best_model()\n",
    "\n",
    "print(f'winner: {forecaster_model.best_model_name}  metrics = {forecaster_model.best_model_metrics}')"
   ]
  },
  {
   "cell_type": "code",
   "execution_count": 30,
   "metadata": {},
   "outputs": [
    {
     "data": {
      "text/plain": [
       "60"
      ]
     },
     "execution_count": 30,
     "metadata": {},
     "output_type": "execute_result"
    }
   ],
   "source": [
    "len(forecaster_model.best_model.lags)"
   ]
  },
  {
   "cell_type": "code",
   "execution_count": 31,
   "metadata": {},
   "outputs": [
    {
     "data": {
      "text/plain": [
       "2023-04-15    78.842552\n",
       "2023-04-16    69.280359\n",
       "2023-04-17    47.729223\n",
       "2023-04-18    10.741132\n",
       "2023-04-19    -0.218256\n",
       "2023-04-20    17.771240\n",
       "2023-04-21    13.009799\n",
       "Freq: D, Name: pred, dtype: float64"
      ]
     },
     "metadata": {},
     "output_type": "display_data"
    }
   ],
   "source": [
    "# Predict\n",
    "# ==============================================================================\n",
    "# Predict only a subset of steps\n",
    "predictions = forecaster_model.best_model.predict(steps=steps, last_window=p1.output_dataframe[y].iloc[-len(forecaster_model.best_model.lags):])#, exog=data_test[['DiaSemana','Mes','EsFestivo']])\n",
    "display(predictions)"
   ]
  },
  {
   "cell_type": "code",
   "execution_count": 32,
   "metadata": {},
   "outputs": [
    {
     "data": {
      "image/png": "[encoded data removed]",
      "text/plain": [
       "<Figure size 432x216 with 1 Axes>"
      ]
     },
     "metadata": {
      "needs_background": "light"
     },
     "output_type": "display_data"
    }
   ],
   "source": [
    "import matplotlib.pyplot as plt\n",
    "# Plot predictions\n",
    "# ==============================================================================\n",
    "fig, ax = plt.subplots(figsize=(6, 3))\n",
    "data_test[[y]].plot(ax=ax, label='test')\n",
    "predictions.plot(ax=ax, label='predictions')\n",
    "ax.legend();"
   ]
  },
  {
   "cell_type": "code",
   "execution_count": 33,
   "metadata": {},
   "outputs": [
    {
     "data": {
      "text/plain": [
       "60"
      ]
     },
     "execution_count": 33,
     "metadata": {},
     "output_type": "execute_result"
    }
   ],
   "source": [
    "window_size = forecaster_model.best_model.window_size\n",
    "window_size"
   ]
  },
  {
   "cell_type": "code",
   "execution_count": 47,
   "metadata": {},
   "outputs": [
    {
     "data": {
      "text/plain": [
       "{'memory': None,\n",
       " 'steps': [('minmaxscaler', MinMaxScaler()),\n",
       "  ('ridge', Ridge(alpha=0.46415888336127775, random_state=123))],\n",
       " 'verbose': False,\n",
       " 'minmaxscaler': MinMaxScaler(),\n",
       " 'ridge': Ridge(alpha=0.46415888336127775, random_state=123),\n",
       " 'minmaxscaler__clip': False,\n",
       " 'minmaxscaler__copy': True,\n",
       " 'minmaxscaler__feature_range': (0, 1),\n",
       " 'ridge__alpha': 0.46415888336127775,\n",
       " 'ridge__copy_X': True,\n",
       " 'ridge__fit_intercept': True,\n",
       " 'ridge__max_iter': None,\n",
       " 'ridge__positive': False,\n",
       " 'ridge__random_state': 123,\n",
       " 'ridge__solver': 'auto',\n",
       " 'ridge__tol': 0.0001}"
      ]
     },
     "execution_count": 47,
     "metadata": {},
     "output_type": "execute_result"
    }
   ],
   "source": [
    "forecaster_model.best_model.regressor.get_params()"
   ]
  },
  {
   "cell_type": "code",
   "execution_count": 50,
   "metadata": {},
   "outputs": [
    {
     "data": {
      "text/plain": [
       "2023-04-15    78.842552\n",
       "2023-04-16    69.280359\n",
       "2023-04-17    47.729223\n",
       "2023-04-18    10.741132\n",
       "2023-04-19    -0.218256\n",
       "2023-04-20    17.771240\n",
       "2023-04-21    13.009799\n",
       "Freq: D, Name: pred, dtype: float64"
      ]
     },
     "metadata": {},
     "output_type": "display_data"
    }
   ],
   "source": [
    "# Predict\n",
    "# ==============================================================================\n",
    "# Predict only a subset of steps\n",
    "predictions = forecaster_model.best_model.predict(steps=steps,last_window=p1.output_dataframe[y].iloc[-window_size:])#, exog=data_test[['DiaSemana','Mes','EsFestivo']])\n",
    "display(predictions)"
   ]
  },
  {
   "cell_type": "code",
   "execution_count": 51,
   "metadata": {},
   "outputs": [
    {
     "data": {
      "image/png": "[encoded data removed]",
      "text/plain": [
       "<Figure size 432x216 with 1 Axes>"
      ]
     },
     "metadata": {
      "needs_background": "light"
     },
     "output_type": "display_data"
    }
   ],
   "source": [
    "fig, ax = plt.subplots(figsize=(6, 3))\n",
    "data_test[y].plot(ax=ax, label='test')\n",
    "predictions.plot(ax=ax, label='predictions')\n",
    "ax.legend();"
   ]
  }
 ],
 "metadata": {
  "kernelspec": {
   "display_name": "Python 3",
   "language": "python",
   "name": "python3"
  },
  "language_info": {
   "codemirror_mode": {
    "name": "ipython",
    "version": 3
   },
   "file_extension": ".py",
   "mimetype": "text/x-python",
   "name": "python",
   "nbconvert_exporter": "python",
   "pygments_lexer": "ipython3",
   "version": "3.10.12"
  },
  "orig_nbformat": 4
 },
 "nbformat": 4,
 "nbformat_minor": 2
}
