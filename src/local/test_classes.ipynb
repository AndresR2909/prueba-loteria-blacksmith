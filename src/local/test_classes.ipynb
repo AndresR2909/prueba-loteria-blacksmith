{
 "cells": [
  {
   "cell_type": "code",
   "execution_count": 1,
   "metadata": {},
   "outputs": [],
   "source": [
    "import sys\n",
    "import os\n",
    "\n",
    "# Obtén la ruta absoluta de la carpeta que contiene este archivo\n",
    "ruta_actual = os.getcwd()\n",
    "\n",
    "# Construye la ruta a la carpeta que contiene 'modulo1.py'\n",
    "ruta_src = os.path.join(ruta_actual, '..')\n",
    "\n",
    "# Agrega la ruta de la carpeta a sys.path\n",
    "sys.path.append(ruta_src)"
   ]
  },
  {
   "cell_type": "code",
   "execution_count": 2,
   "metadata": {},
   "outputs": [],
   "source": [
    "from data_preprocess.data_preprocess import DataPreprocess\n",
    "data_path = \"../data/Txs_LoteriaBlacksmith.xlsx\"\n",
    "p1 = DataPreprocess(data_path, index_column='FechaTx', target_column = 'Cantidad')\n",
    "p1.remove_irrelevant_features(del_columns=['IdCliente','NomProducto','CodProducto'])"
   ]
  },
  {
   "cell_type": "code",
   "execution_count": 3,
   "metadata": {},
   "outputs": [
    {
     "data": {
      "text/plain": [
       "109216"
      ]
     },
     "execution_count": 3,
     "metadata": {},
     "output_type": "execute_result"
    }
   ],
   "source": [
    "array = p1.output_dataframe.groupby(by='CodSDV', sort=True)['Cantidad'].sum().sort_values(ascending=False).head(25).reset_index()['CodSDV'].unique()\n",
    "array = list(array)\n",
    "array[0]"
   ]
  },
  {
   "cell_type": "code",
   "execution_count": 4,
   "metadata": {},
   "outputs": [],
   "source": [
    "p1.filter_dataframe_by_feature(filter_column='CodSDV',filter_value=array[0])"
   ]
  },
  {
   "cell_type": "code",
   "execution_count": 5,
   "metadata": {},
   "outputs": [
    {
     "data": {
      "text/html": [
       "<div>\n",
       "<style scoped>\n",
       "    .dataframe tbody tr th:only-of-type {\n",
       "        vertical-align: middle;\n",
       "    }\n",
       "\n",
       "    .dataframe tbody tr th {\n",
       "        vertical-align: top;\n",
       "    }\n",
       "\n",
       "    .dataframe thead th {\n",
       "        text-align: right;\n",
       "    }\n",
       "</style>\n",
       "<table border=\"1\" class=\"dataframe\">\n",
       "  <thead>\n",
       "    <tr style=\"text-align: right;\">\n",
       "      <th></th>\n",
       "      <th>Genero</th>\n",
       "      <th>CodOficina</th>\n",
       "      <th>CodSDV</th>\n",
       "      <th>CodCanal</th>\n",
       "      <th>FechaTx</th>\n",
       "      <th>HoraTx</th>\n",
       "      <th>Cantidad</th>\n",
       "      <th>Ingreso</th>\n",
       "    </tr>\n",
       "  </thead>\n",
       "  <tbody>\n",
       "    <tr>\n",
       "      <th>18883</th>\n",
       "      <td>F</td>\n",
       "      <td>2900145</td>\n",
       "      <td>109216</td>\n",
       "      <td>3</td>\n",
       "      <td>2022-08-16</td>\n",
       "      <td>20</td>\n",
       "      <td>2</td>\n",
       "      <td>4000</td>\n",
       "    </tr>\n",
       "    <tr>\n",
       "      <th>19129</th>\n",
       "      <td>F</td>\n",
       "      <td>2900145</td>\n",
       "      <td>109216</td>\n",
       "      <td>3</td>\n",
       "      <td>2022-08-17</td>\n",
       "      <td>14</td>\n",
       "      <td>1</td>\n",
       "      <td>2000</td>\n",
       "    </tr>\n",
       "    <tr>\n",
       "      <th>19234</th>\n",
       "      <td>F</td>\n",
       "      <td>2900145</td>\n",
       "      <td>109216</td>\n",
       "      <td>3</td>\n",
       "      <td>2022-08-18</td>\n",
       "      <td>19</td>\n",
       "      <td>1</td>\n",
       "      <td>2000</td>\n",
       "    </tr>\n",
       "    <tr>\n",
       "      <th>19235</th>\n",
       "      <td>F</td>\n",
       "      <td>2900145</td>\n",
       "      <td>109216</td>\n",
       "      <td>3</td>\n",
       "      <td>2022-08-18</td>\n",
       "      <td>9</td>\n",
       "      <td>1</td>\n",
       "      <td>2000</td>\n",
       "    </tr>\n",
       "    <tr>\n",
       "      <th>19236</th>\n",
       "      <td>F</td>\n",
       "      <td>2900145</td>\n",
       "      <td>109216</td>\n",
       "      <td>3</td>\n",
       "      <td>2022-08-18</td>\n",
       "      <td>7</td>\n",
       "      <td>1</td>\n",
       "      <td>2000</td>\n",
       "    </tr>\n",
       "    <tr>\n",
       "      <th>...</th>\n",
       "      <td>...</td>\n",
       "      <td>...</td>\n",
       "      <td>...</td>\n",
       "      <td>...</td>\n",
       "      <td>...</td>\n",
       "      <td>...</td>\n",
       "      <td>...</td>\n",
       "      <td>...</td>\n",
       "    </tr>\n",
       "    <tr>\n",
       "      <th>99732</th>\n",
       "      <td>F</td>\n",
       "      <td>2900145</td>\n",
       "      <td>109216</td>\n",
       "      <td>3</td>\n",
       "      <td>2023-07-14</td>\n",
       "      <td>19</td>\n",
       "      <td>4</td>\n",
       "      <td>18000</td>\n",
       "    </tr>\n",
       "    <tr>\n",
       "      <th>99733</th>\n",
       "      <td>F</td>\n",
       "      <td>2900145</td>\n",
       "      <td>109216</td>\n",
       "      <td>3</td>\n",
       "      <td>2023-07-14</td>\n",
       "      <td>7</td>\n",
       "      <td>4</td>\n",
       "      <td>17000</td>\n",
       "    </tr>\n",
       "    <tr>\n",
       "      <th>99734</th>\n",
       "      <td>F</td>\n",
       "      <td>2900145</td>\n",
       "      <td>109216</td>\n",
       "      <td>3</td>\n",
       "      <td>2023-07-14</td>\n",
       "      <td>21</td>\n",
       "      <td>1</td>\n",
       "      <td>2000</td>\n",
       "    </tr>\n",
       "    <tr>\n",
       "      <th>99735</th>\n",
       "      <td>F</td>\n",
       "      <td>2900145</td>\n",
       "      <td>109216</td>\n",
       "      <td>3</td>\n",
       "      <td>2023-07-14</td>\n",
       "      <td>13</td>\n",
       "      <td>1</td>\n",
       "      <td>3000</td>\n",
       "    </tr>\n",
       "    <tr>\n",
       "      <th>99736</th>\n",
       "      <td>F</td>\n",
       "      <td>2900145</td>\n",
       "      <td>109216</td>\n",
       "      <td>3</td>\n",
       "      <td>2023-07-14</td>\n",
       "      <td>20</td>\n",
       "      <td>4</td>\n",
       "      <td>8000</td>\n",
       "    </tr>\n",
       "  </tbody>\n",
       "</table>\n",
       "<p>2711 rows × 8 columns</p>\n",
       "</div>"
      ],
      "text/plain": [
       "      Genero  CodOficina  CodSDV  CodCanal    FechaTx  HoraTx  Cantidad  \\\n",
       "18883      F     2900145  109216         3 2022-08-16      20         2   \n",
       "19129      F     2900145  109216         3 2022-08-17      14         1   \n",
       "19234      F     2900145  109216         3 2022-08-18      19         1   \n",
       "19235      F     2900145  109216         3 2022-08-18       9         1   \n",
       "19236      F     2900145  109216         3 2022-08-18       7         1   \n",
       "...      ...         ...     ...       ...        ...     ...       ...   \n",
       "99732      F     2900145  109216         3 2023-07-14      19         4   \n",
       "99733      F     2900145  109216         3 2023-07-14       7         4   \n",
       "99734      F     2900145  109216         3 2023-07-14      21         1   \n",
       "99735      F     2900145  109216         3 2023-07-14      13         1   \n",
       "99736      F     2900145  109216         3 2023-07-14      20         4   \n",
       "\n",
       "        Ingreso  \n",
       "18883      4000  \n",
       "19129      2000  \n",
       "19234      2000  \n",
       "19235      2000  \n",
       "19236      2000  \n",
       "...         ...  \n",
       "99732     18000  \n",
       "99733     17000  \n",
       "99734      2000  \n",
       "99735      3000  \n",
       "99736      8000  \n",
       "\n",
       "[2711 rows x 8 columns]"
      ]
     },
     "execution_count": 5,
     "metadata": {},
     "output_type": "execute_result"
    }
   ],
   "source": [
    "p1.output_dataframe"
   ]
  },
  {
   "cell_type": "code",
   "execution_count": 6,
   "metadata": {},
   "outputs": [],
   "source": [
    "p1.grouped_dataframe_by_feature(grouped_column ='CodSDV')"
   ]
  },
  {
   "cell_type": "code",
   "execution_count": 7,
   "metadata": {},
   "outputs": [
    {
     "data": {
      "text/html": [
       "<div>\n",
       "<style scoped>\n",
       "    .dataframe tbody tr th:only-of-type {\n",
       "        vertical-align: middle;\n",
       "    }\n",
       "\n",
       "    .dataframe tbody tr th {\n",
       "        vertical-align: top;\n",
       "    }\n",
       "\n",
       "    .dataframe thead th {\n",
       "        text-align: right;\n",
       "    }\n",
       "</style>\n",
       "<table border=\"1\" class=\"dataframe\">\n",
       "  <thead>\n",
       "    <tr style=\"text-align: right;\">\n",
       "      <th></th>\n",
       "      <th>FechaTx</th>\n",
       "      <th>Cantidad</th>\n",
       "    </tr>\n",
       "  </thead>\n",
       "  <tbody>\n",
       "    <tr>\n",
       "      <th>0</th>\n",
       "      <td>2022-08-16</td>\n",
       "      <td>2</td>\n",
       "    </tr>\n",
       "    <tr>\n",
       "      <th>1</th>\n",
       "      <td>2022-08-17</td>\n",
       "      <td>1</td>\n",
       "    </tr>\n",
       "    <tr>\n",
       "      <th>2</th>\n",
       "      <td>2022-08-18</td>\n",
       "      <td>4</td>\n",
       "    </tr>\n",
       "    <tr>\n",
       "      <th>3</th>\n",
       "      <td>2022-08-19</td>\n",
       "      <td>1</td>\n",
       "    </tr>\n",
       "    <tr>\n",
       "      <th>4</th>\n",
       "      <td>2022-08-26</td>\n",
       "      <td>1</td>\n",
       "    </tr>\n",
       "    <tr>\n",
       "      <th>...</th>\n",
       "      <td>...</td>\n",
       "      <td>...</td>\n",
       "    </tr>\n",
       "    <tr>\n",
       "      <th>275</th>\n",
       "      <td>2023-07-10</td>\n",
       "      <td>14</td>\n",
       "    </tr>\n",
       "    <tr>\n",
       "      <th>276</th>\n",
       "      <td>2023-07-11</td>\n",
       "      <td>43</td>\n",
       "    </tr>\n",
       "    <tr>\n",
       "      <th>277</th>\n",
       "      <td>2023-07-12</td>\n",
       "      <td>17</td>\n",
       "    </tr>\n",
       "    <tr>\n",
       "      <th>278</th>\n",
       "      <td>2023-07-13</td>\n",
       "      <td>31</td>\n",
       "    </tr>\n",
       "    <tr>\n",
       "      <th>279</th>\n",
       "      <td>2023-07-14</td>\n",
       "      <td>24</td>\n",
       "    </tr>\n",
       "  </tbody>\n",
       "</table>\n",
       "<p>280 rows × 2 columns</p>\n",
       "</div>"
      ],
      "text/plain": [
       "       FechaTx  Cantidad\n",
       "0   2022-08-16         2\n",
       "1   2022-08-17         1\n",
       "2   2022-08-18         4\n",
       "3   2022-08-19         1\n",
       "4   2022-08-26         1\n",
       "..         ...       ...\n",
       "275 2023-07-10        14\n",
       "276 2023-07-11        43\n",
       "277 2023-07-12        17\n",
       "278 2023-07-13        31\n",
       "279 2023-07-14        24\n",
       "\n",
       "[280 rows x 2 columns]"
      ]
     },
     "execution_count": 7,
     "metadata": {},
     "output_type": "execute_result"
    }
   ],
   "source": [
    "p1.output_dataframe"
   ]
  },
  {
   "cell_type": "code",
   "execution_count": 8,
   "metadata": {},
   "outputs": [],
   "source": [
    "p1.completed_timeserie_df()"
   ]
  },
  {
   "cell_type": "code",
   "execution_count": 9,
   "metadata": {},
   "outputs": [
    {
     "data": {
      "text/html": [
       "<div>\n",
       "<style scoped>\n",
       "    .dataframe tbody tr th:only-of-type {\n",
       "        vertical-align: middle;\n",
       "    }\n",
       "\n",
       "    .dataframe tbody tr th {\n",
       "        vertical-align: top;\n",
       "    }\n",
       "\n",
       "    .dataframe thead th {\n",
       "        text-align: right;\n",
       "    }\n",
       "</style>\n",
       "<table border=\"1\" class=\"dataframe\">\n",
       "  <thead>\n",
       "    <tr style=\"text-align: right;\">\n",
       "      <th></th>\n",
       "      <th>Cantidad</th>\n",
       "    </tr>\n",
       "  </thead>\n",
       "  <tbody>\n",
       "    <tr>\n",
       "      <th>2022-08-16</th>\n",
       "      <td>2</td>\n",
       "    </tr>\n",
       "    <tr>\n",
       "      <th>2022-08-17</th>\n",
       "      <td>1</td>\n",
       "    </tr>\n",
       "    <tr>\n",
       "      <th>2022-08-18</th>\n",
       "      <td>4</td>\n",
       "    </tr>\n",
       "    <tr>\n",
       "      <th>2022-08-19</th>\n",
       "      <td>1</td>\n",
       "    </tr>\n",
       "    <tr>\n",
       "      <th>2022-08-20</th>\n",
       "      <td>0</td>\n",
       "    </tr>\n",
       "    <tr>\n",
       "      <th>...</th>\n",
       "      <td>...</td>\n",
       "    </tr>\n",
       "    <tr>\n",
       "      <th>2023-07-10</th>\n",
       "      <td>14</td>\n",
       "    </tr>\n",
       "    <tr>\n",
       "      <th>2023-07-11</th>\n",
       "      <td>43</td>\n",
       "    </tr>\n",
       "    <tr>\n",
       "      <th>2023-07-12</th>\n",
       "      <td>17</td>\n",
       "    </tr>\n",
       "    <tr>\n",
       "      <th>2023-07-13</th>\n",
       "      <td>31</td>\n",
       "    </tr>\n",
       "    <tr>\n",
       "      <th>2023-07-14</th>\n",
       "      <td>24</td>\n",
       "    </tr>\n",
       "  </tbody>\n",
       "</table>\n",
       "<p>333 rows × 1 columns</p>\n",
       "</div>"
      ],
      "text/plain": [
       "            Cantidad\n",
       "2022-08-16         2\n",
       "2022-08-17         1\n",
       "2022-08-18         4\n",
       "2022-08-19         1\n",
       "2022-08-20         0\n",
       "...              ...\n",
       "2023-07-10        14\n",
       "2023-07-11        43\n",
       "2023-07-12        17\n",
       "2023-07-13        31\n",
       "2023-07-14        24\n",
       "\n",
       "[333 rows x 1 columns]"
      ]
     },
     "execution_count": 9,
     "metadata": {},
     "output_type": "execute_result"
    }
   ],
   "source": [
    "p1.output_dataframe"
   ]
  },
  {
   "cell_type": "code",
   "execution_count": 10,
   "metadata": {},
   "outputs": [],
   "source": [
    "p1.feature_generation()\n",
    "p1.handle_missing_values()\n",
    "p1.split_data(split = 7)"
   ]
  },
  {
   "cell_type": "code",
   "execution_count": 11,
   "metadata": {},
   "outputs": [
    {
     "data": {
      "text/html": [
       "<div>\n",
       "<style scoped>\n",
       "    .dataframe tbody tr th:only-of-type {\n",
       "        vertical-align: middle;\n",
       "    }\n",
       "\n",
       "    .dataframe tbody tr th {\n",
       "        vertical-align: top;\n",
       "    }\n",
       "\n",
       "    .dataframe thead th {\n",
       "        text-align: right;\n",
       "    }\n",
       "</style>\n",
       "<table border=\"1\" class=\"dataframe\">\n",
       "  <thead>\n",
       "    <tr style=\"text-align: right;\">\n",
       "      <th></th>\n",
       "      <th>Cantidad</th>\n",
       "      <th>DiaSemana</th>\n",
       "      <th>Mes</th>\n",
       "      <th>Dia</th>\n",
       "      <th>EsQuincena</th>\n",
       "      <th>EsFestivo</th>\n",
       "      <th>media_movil</th>\n",
       "    </tr>\n",
       "    <tr>\n",
       "      <th>index</th>\n",
       "      <th></th>\n",
       "      <th></th>\n",
       "      <th></th>\n",
       "      <th></th>\n",
       "      <th></th>\n",
       "      <th></th>\n",
       "      <th></th>\n",
       "    </tr>\n",
       "  </thead>\n",
       "  <tbody>\n",
       "    <tr>\n",
       "      <th>2022-08-23</th>\n",
       "      <td>0</td>\n",
       "      <td>1</td>\n",
       "      <td>8</td>\n",
       "      <td>23</td>\n",
       "      <td>False</td>\n",
       "      <td>False</td>\n",
       "      <td>1.142857</td>\n",
       "    </tr>\n",
       "    <tr>\n",
       "      <th>2022-08-24</th>\n",
       "      <td>0</td>\n",
       "      <td>2</td>\n",
       "      <td>8</td>\n",
       "      <td>24</td>\n",
       "      <td>False</td>\n",
       "      <td>False</td>\n",
       "      <td>0.857143</td>\n",
       "    </tr>\n",
       "    <tr>\n",
       "      <th>2022-08-25</th>\n",
       "      <td>0</td>\n",
       "      <td>3</td>\n",
       "      <td>8</td>\n",
       "      <td>25</td>\n",
       "      <td>False</td>\n",
       "      <td>False</td>\n",
       "      <td>0.714286</td>\n",
       "    </tr>\n",
       "    <tr>\n",
       "      <th>2022-08-26</th>\n",
       "      <td>1</td>\n",
       "      <td>4</td>\n",
       "      <td>8</td>\n",
       "      <td>26</td>\n",
       "      <td>False</td>\n",
       "      <td>False</td>\n",
       "      <td>0.142857</td>\n",
       "    </tr>\n",
       "    <tr>\n",
       "      <th>2022-08-27</th>\n",
       "      <td>0</td>\n",
       "      <td>5</td>\n",
       "      <td>8</td>\n",
       "      <td>27</td>\n",
       "      <td>False</td>\n",
       "      <td>False</td>\n",
       "      <td>0.142857</td>\n",
       "    </tr>\n",
       "    <tr>\n",
       "      <th>...</th>\n",
       "      <td>...</td>\n",
       "      <td>...</td>\n",
       "      <td>...</td>\n",
       "      <td>...</td>\n",
       "      <td>...</td>\n",
       "      <td>...</td>\n",
       "      <td>...</td>\n",
       "    </tr>\n",
       "    <tr>\n",
       "      <th>2023-07-10</th>\n",
       "      <td>14</td>\n",
       "      <td>0</td>\n",
       "      <td>7</td>\n",
       "      <td>10</td>\n",
       "      <td>False</td>\n",
       "      <td>False</td>\n",
       "      <td>49.428571</td>\n",
       "    </tr>\n",
       "    <tr>\n",
       "      <th>2023-07-11</th>\n",
       "      <td>43</td>\n",
       "      <td>1</td>\n",
       "      <td>7</td>\n",
       "      <td>11</td>\n",
       "      <td>False</td>\n",
       "      <td>False</td>\n",
       "      <td>41.571429</td>\n",
       "    </tr>\n",
       "    <tr>\n",
       "      <th>2023-07-12</th>\n",
       "      <td>17</td>\n",
       "      <td>2</td>\n",
       "      <td>7</td>\n",
       "      <td>12</td>\n",
       "      <td>False</td>\n",
       "      <td>False</td>\n",
       "      <td>41.428571</td>\n",
       "    </tr>\n",
       "    <tr>\n",
       "      <th>2023-07-13</th>\n",
       "      <td>31</td>\n",
       "      <td>3</td>\n",
       "      <td>7</td>\n",
       "      <td>13</td>\n",
       "      <td>False</td>\n",
       "      <td>False</td>\n",
       "      <td>32.285714</td>\n",
       "    </tr>\n",
       "    <tr>\n",
       "      <th>2023-07-14</th>\n",
       "      <td>24</td>\n",
       "      <td>4</td>\n",
       "      <td>7</td>\n",
       "      <td>14</td>\n",
       "      <td>False</td>\n",
       "      <td>False</td>\n",
       "      <td>32.428571</td>\n",
       "    </tr>\n",
       "  </tbody>\n",
       "</table>\n",
       "<p>326 rows × 7 columns</p>\n",
       "</div>"
      ],
      "text/plain": [
       "            Cantidad  DiaSemana  Mes  Dia  EsQuincena  EsFestivo  media_movil\n",
       "index                                                                        \n",
       "2022-08-23         0          1    8   23       False      False     1.142857\n",
       "2022-08-24         0          2    8   24       False      False     0.857143\n",
       "2022-08-25         0          3    8   25       False      False     0.714286\n",
       "2022-08-26         1          4    8   26       False      False     0.142857\n",
       "2022-08-27         0          5    8   27       False      False     0.142857\n",
       "...              ...        ...  ...  ...         ...        ...          ...\n",
       "2023-07-10        14          0    7   10       False      False    49.428571\n",
       "2023-07-11        43          1    7   11       False      False    41.571429\n",
       "2023-07-12        17          2    7   12       False      False    41.428571\n",
       "2023-07-13        31          3    7   13       False      False    32.285714\n",
       "2023-07-14        24          4    7   14       False      False    32.428571\n",
       "\n",
       "[326 rows x 7 columns]"
      ]
     },
     "execution_count": 11,
     "metadata": {},
     "output_type": "execute_result"
    }
   ],
   "source": [
    "p1.output_dataframe"
   ]
  },
  {
   "cell_type": "code",
   "execution_count": 25,
   "metadata": {},
   "outputs": [],
   "source": [
    "from train.forecaster_model import ForecasterModel"
   ]
  },
  {
   "cell_type": "code",
   "execution_count": 26,
   "metadata": {},
   "outputs": [],
   "source": [
    "y = 'Cantidad'\n",
    "steps = 7\n",
    "sel_exog = ['Mes', 'Dia','media_movil']#, 'DiaSemana','EsQuincena', 'EsFestivo']\n",
    "data_train = p1.data_train\n",
    "data_test  = p1.data_test\n",
    "# Lags used as predictors\n",
    "lags_grid = [7, 21, 60]#[7, 14, 21, 30, 60]\n",
    "metric = ['mean_absolute_error','mean_squared_error']"
   ]
  },
  {
   "cell_type": "code",
   "execution_count": 27,
   "metadata": {},
   "outputs": [],
   "source": [
    "forecaster_model = ForecasterModel(steps,lags_grid,metric)"
   ]
  },
  {
   "cell_type": "code",
   "execution_count": 28,
   "metadata": {},
   "outputs": [
    {
     "name": "stdout",
     "output_type": "stream",
     "text": [
      "Number of models compared: 30.\n"
     ]
    },
    {
     "name": "stderr",
     "output_type": "stream",
     "text": [
      "lags grid: 100%|██████████| 3/3 [00:01<00:00,  2.84it/s]\n"
     ]
    },
    {
     "name": "stdout",
     "output_type": "stream",
     "text": [
      "`Forecaster` refitted using the best-found lags and parameters, and the whole data set: \n",
      "  Lags: [1 2 3 4 5 6 7] \n",
      "  Parameters: {'ridge__alpha': 0.46415888336127775}\n",
      "  Backtesting metric: 23.373100473531352\n",
      "\n",
      "Modelo ridge ha sido entrenado\n",
      "Number of models compared: 144.\n"
     ]
    },
    {
     "name": "stderr",
     "output_type": "stream",
     "text": [
      "lags grid: 100%|██████████| 3/3 [00:29<00:00,  9.92s/it]\n"
     ]
    },
    {
     "name": "stdout",
     "output_type": "stream",
     "text": [
      "`Forecaster` refitted using the best-found lags and parameters, and the whole data set: \n",
      "  Lags: [ 1  2  3  4  5  6  7  8  9 10 11 12 13 14 15 16 17 18 19 20 21 22 23 24\n",
      " 25 26 27 28 29 30 31 32 33 34 35 36 37 38 39 40 41 42 43 44 45 46 47 48\n",
      " 49 50 51 52 53 54 55 56 57 58 59 60] \n",
      "  Parameters: {'xgbregressor__colsample_bytree': 1, 'xgbregressor__gamma': 0.5, 'xgbregressor__max_depth': 5, 'xgbregressor__min_child_weight': 1, 'xgbregressor__subsample': 1}\n",
      "  Backtesting metric: 24.134532034397125\n",
      "\n",
      "Modelo xgbregressor ha sido entrenado\n",
      "Number of models compared: 30.\n"
     ]
    },
    {
     "name": "stderr",
     "output_type": "stream",
     "text": [
      "params grid:  30%|███       | 9/30 [00:50<02:18,  6.57s/it]c:\\repos\\prueba-loteria-blacksmith\\.conda\\lib\\site-packages\\statsmodels\\base\\model.py:607: ConvergenceWarning: Maximum Likelihood optimization failed to converge. Check mle_retvals\n",
      "  warnings.warn(\"Maximum Likelihood optimization failed to \"\n",
      "params grid:  33%|███▎      | 10/30 [01:18<04:21, 13.07s/it]c:\\repos\\prueba-loteria-blacksmith\\.conda\\lib\\site-packages\\statsmodels\\base\\model.py:607: ConvergenceWarning: Maximum Likelihood optimization failed to converge. Check mle_retvals\n",
      "  warnings.warn(\"Maximum Likelihood optimization failed to \"\n",
      "params grid:  37%|███▋      | 11/30 [01:41<05:06, 16.14s/it]c:\\repos\\prueba-loteria-blacksmith\\.conda\\lib\\site-packages\\statsmodels\\base\\model.py:607: ConvergenceWarning: Maximum Likelihood optimization failed to converge. Check mle_retvals\n",
      "  warnings.warn(\"Maximum Likelihood optimization failed to \"\n",
      "params grid:  40%|████      | 12/30 [02:07<05:44, 19.15s/it]c:\\repos\\prueba-loteria-blacksmith\\.conda\\lib\\site-packages\\statsmodels\\base\\model.py:607: ConvergenceWarning: Maximum Likelihood optimization failed to converge. Check mle_retvals\n",
      "  warnings.warn(\"Maximum Likelihood optimization failed to \"\n",
      "params grid:  43%|████▎     | 13/30 [02:37<06:22, 22.50s/it]c:\\repos\\prueba-loteria-blacksmith\\.conda\\lib\\site-packages\\statsmodels\\base\\model.py:607: ConvergenceWarning: Maximum Likelihood optimization failed to converge. Check mle_retvals\n",
      "  warnings.warn(\"Maximum Likelihood optimization failed to \"\n",
      "params grid:  47%|████▋     | 14/30 [03:05<06:25, 24.10s/it]c:\\repos\\prueba-loteria-blacksmith\\.conda\\lib\\site-packages\\statsmodels\\base\\model.py:607: ConvergenceWarning: Maximum Likelihood optimization failed to converge. Check mle_retvals\n",
      "  warnings.warn(\"Maximum Likelihood optimization failed to \"\n",
      "params grid:  80%|████████  | 24/30 [05:48<02:07, 21.21s/it]c:\\repos\\prueba-loteria-blacksmith\\.conda\\lib\\site-packages\\statsmodels\\base\\model.py:607: ConvergenceWarning: Maximum Likelihood optimization failed to converge. Check mle_retvals\n",
      "  warnings.warn(\"Maximum Likelihood optimization failed to \"\n",
      "params grid:  83%|████████▎ | 25/30 [06:52<02:50, 34.06s/it]c:\\repos\\prueba-loteria-blacksmith\\.conda\\lib\\site-packages\\statsmodels\\base\\model.py:607: ConvergenceWarning: Maximum Likelihood optimization failed to converge. Check mle_retvals\n",
      "  warnings.warn(\"Maximum Likelihood optimization failed to \"\n",
      "params grid:  87%|████████▋ | 26/30 [07:51<02:45, 41.37s/it]c:\\repos\\prueba-loteria-blacksmith\\.conda\\lib\\site-packages\\statsmodels\\base\\model.py:607: ConvergenceWarning: Maximum Likelihood optimization failed to converge. Check mle_retvals\n",
      "  warnings.warn(\"Maximum Likelihood optimization failed to \"\n",
      "params grid:  90%|█████████ | 27/30 [08:56<02:25, 48.51s/it]c:\\repos\\prueba-loteria-blacksmith\\.conda\\lib\\site-packages\\statsmodels\\base\\model.py:607: ConvergenceWarning: Maximum Likelihood optimization failed to converge. Check mle_retvals\n",
      "  warnings.warn(\"Maximum Likelihood optimization failed to \"\n",
      "params grid:  93%|█████████▎| 28/30 [10:12<01:53, 56.66s/it]c:\\repos\\prueba-loteria-blacksmith\\.conda\\lib\\site-packages\\statsmodels\\base\\model.py:607: ConvergenceWarning: Maximum Likelihood optimization failed to converge. Check mle_retvals\n",
      "  warnings.warn(\"Maximum Likelihood optimization failed to \"\n",
      "params grid:  97%|█████████▋| 29/30 [11:21<01:00, 60.32s/it]c:\\repos\\prueba-loteria-blacksmith\\.conda\\lib\\site-packages\\statsmodels\\base\\model.py:607: ConvergenceWarning: Maximum Likelihood optimization failed to converge. Check mle_retvals\n",
      "  warnings.warn(\"Maximum Likelihood optimization failed to \"\n",
      "params grid: 100%|██████████| 30/30 [12:40<00:00, 25.36s/it]\n"
     ]
    },
    {
     "name": "stdout",
     "output_type": "stream",
     "text": [
      "`Forecaster` refitted using the best-found parameters, and the whole data set: \n",
      "  Parameters: {'order': (7, 1, 0), 'seasonal_order': (0, 0, 0, 0), 'trend': 'n'}\n",
      "  Backtesting metric: 24.965256440073198\n",
      "\n",
      "Modelo arima ha sido entrenado\n"
     ]
    }
   ],
   "source": [
    "forecaster_model.train_model(data_train,y)"
   ]
  },
  {
   "cell_type": "code",
   "execution_count": 29,
   "metadata": {},
   "outputs": [
    {
     "data": {
      "text/plain": [
       "{'ridge': {'model': Ridge(random_state=123),\n",
       "  'hiperparameters': {'ridge__alpha': array([1.00000000e-03, 7.74263683e-03, 5.99484250e-02, 4.64158883e-01,\n",
       "          3.59381366e+00, 2.78255940e+01, 2.15443469e+02, 1.66810054e+03,\n",
       "          1.29154967e+04, 1.00000000e+05])},\n",
       "  'trained_model': ================= \n",
       "  ForecasterAutoreg \n",
       "  ================= \n",
       "  Regressor: Pipeline(steps=[('minmaxscaler', MinMaxScaler()),\n",
       "                  ('ridge', Ridge(alpha=0.46415888336127775, random_state=123))]) \n",
       "  Lags: [1 2 3 4 5 6 7] \n",
       "  Transformer for y: None \n",
       "  Transformer for exog: None \n",
       "  Window size: 7 \n",
       "  Weight function included: False \n",
       "  Exogenous included: False \n",
       "  Type of exogenous variable: None \n",
       "  Exogenous variables names: None \n",
       "  Training range: [Timestamp('2022-08-23 00:00:00'), Timestamp('2023-07-07 00:00:00')] \n",
       "  Training index type: DatetimeIndex \n",
       "  Training index frequency: D \n",
       "  Regressor parameters: {'minmaxscaler__clip': False, 'minmaxscaler__copy': True, 'minmaxscaler__feature_range': (0, 1), 'ridge__alpha': 0.46415888336127775, 'ridge__copy_X': True, 'ridge__fit_intercept': True, 'ridge__max_iter': None, 'ridge__positive': False, 'ridge__random_state': 123, 'ridge__solver': 'auto', 'ridge__tol': 0.0001} \n",
       "  fit_kwargs: {} \n",
       "  Creation date: 2023-07-18 22:09:53 \n",
       "  Last fit date: 2023-07-18 22:09:54 \n",
       "  Skforecast version: 0.9.1 \n",
       "  Python version: 3.10.12 \n",
       "  Forecaster id: None },\n",
       " 'xgbregressor': {'model': XGBRegressor(base_score=None, booster=None, callbacks=None,\n",
       "               colsample_bylevel=None, colsample_bynode=None,\n",
       "               colsample_bytree=None, early_stopping_rounds=None,\n",
       "               enable_categorical=False, eval_metric=None, feature_types=None,\n",
       "               gamma=None, gpu_id=None, grow_policy=None, importance_type=None,\n",
       "               interaction_constraints=None, learning_rate=None, max_bin=None,\n",
       "               max_cat_threshold=None, max_cat_to_onehot=None,\n",
       "               max_delta_step=None, max_depth=None, max_leaves=None,\n",
       "               min_child_weight=None, missing=nan, monotone_constraints=None,\n",
       "               n_estimators=100, n_jobs=None, num_parallel_tree=None,\n",
       "               predictor=None, random_state=123, ...),\n",
       "  'hiperparameters': {'xgbregressor__min_child_weight': [1, 5],\n",
       "   'xgbregressor__gamma': [0.5, 1, 2],\n",
       "   'xgbregressor__subsample': [0.6, 1],\n",
       "   'xgbregressor__colsample_bytree': [0.6, 1],\n",
       "   'xgbregressor__max_depth': [3, 5]},\n",
       "  'trained_model': ================= \n",
       "  ForecasterAutoreg \n",
       "  ================= \n",
       "  Regressor: Pipeline(steps=[('minmaxscaler', MinMaxScaler()),\n",
       "                  ('xgbregressor',\n",
       "                   XGBRegressor(base_score=None, booster=None, callbacks=None,\n",
       "                                colsample_bylevel=None, colsample_bynode=None,\n",
       "                                colsample_bytree=1, early_stopping_rounds=None,\n",
       "                                enable_categorical=False, eval_metric=None,\n",
       "                                feature_types=None, gamma=0.5, gpu_id=None,\n",
       "                                grow_policy=None, importance_type=None,\n",
       "                                interaction_constraints=None, learning_rate=None,\n",
       "                                max_bin=None, max_cat_threshold=None,\n",
       "                                max_cat_to_onehot=None, max_delta_step=None,\n",
       "                                max_depth=5, max_leaves=None, min_child_weight=1,\n",
       "                                missing=nan, monotone_constraints=None,\n",
       "                                n_estimators=100, n_jobs=None,\n",
       "                                num_parallel_tree=None, predictor=None,\n",
       "                                random_state=123, ...))]) \n",
       "  Lags: [ 1  2  3  4  5  6  7  8  9 10 11 12 13 14 15 16 17 18 19 20 21 22 23 24\n",
       "   25 26 27 28 29 30 31 32 33 34 35 36 37 38 39 40 41 42 43 44 45 46 47 48\n",
       "   49 50 51 52 53 54 55 56 57 58 59 60] \n",
       "  Transformer for y: None \n",
       "  Transformer for exog: None \n",
       "  Window size: 60 \n",
       "  Weight function included: False \n",
       "  Exogenous included: False \n",
       "  Type of exogenous variable: None \n",
       "  Exogenous variables names: None \n",
       "  Training range: [Timestamp('2022-08-23 00:00:00'), Timestamp('2023-07-07 00:00:00')] \n",
       "  Training index type: DatetimeIndex \n",
       "  Training index frequency: D \n",
       "  Regressor parameters: {'minmaxscaler__clip': False, 'minmaxscaler__copy': True, 'minmaxscaler__feature_range': (0, 1), 'xgbregressor__objective': 'reg:squarederror', 'xgbregressor__base_score': None, 'xgbregressor__booster': None, 'xgbregressor__callbacks': None, 'xgbregressor__colsample_bylevel': None, 'xgbregressor__colsample_bynode': None, 'xgbregressor__colsample_bytree': 1, 'xgbregressor__early_stopping_rounds': None, 'xgbregressor__enable_categorical': False, 'xgbregressor__eval_metric': None, 'xgbregressor__feature_types': None, 'xgbregressor__gamma': 0.5, 'xgbregressor__gpu_id': None, 'xgbregressor__grow_policy': None, 'xgbregressor__importance_type': None, 'xgbregressor__interaction_constraints': None, 'xgbregressor__learning_rate': None, 'xgbregressor__max_bin': None, 'xgbregressor__max_cat_threshold': None, 'xgbregressor__max_cat_to_onehot': None, 'xgbregressor__max_delta_step': None, 'xgbregressor__max_depth': 5, 'xgbregressor__max_leaves': None, 'xgbregressor__min_child_weight': 1, 'xgbregressor__missing': nan, 'xgbregressor__monotone_constraints': None, 'xgbregressor__n_estimators': 100, 'xgbregressor__n_jobs': None, 'xgbregressor__num_parallel_tree': None, 'xgbregressor__predictor': None, 'xgbregressor__random_state': 123, 'xgbregressor__reg_alpha': None, 'xgbregressor__reg_lambda': None, 'xgbregressor__sampling_method': None, 'xgbregressor__scale_pos_weight': None, 'xgbregressor__subsample': 1, 'xgbregressor__tree_method': None, 'xgbregressor__validate_parameters': None, 'xgbregressor__verbosity': None} \n",
       "  fit_kwargs: {} \n",
       "  Creation date: 2023-07-18 22:09:54 \n",
       "  Last fit date: 2023-07-18 22:10:24 \n",
       "  Skforecast version: 0.9.1 \n",
       "  Python version: 3.10.12 \n",
       "  Forecaster id: None },\n",
       " 'arima': {'model': ARIMA(maxiter=200, order=(12, 1, 1)),\n",
       "  'hiperparameters': {'order': [(7, 0, 0),\n",
       "    (7, 1, 0),\n",
       "    (7, 1, 1),\n",
       "    (7, 0, 7),\n",
       "    (7, 1, 7),\n",
       "    (14, 0, 0),\n",
       "    (14, 1, 0),\n",
       "    (14, 1, 1),\n",
       "    (14, 0, 7),\n",
       "    (14, 1, 7)],\n",
       "   'seasonal_order': [(0, 0, 0, 0)],\n",
       "   'trend': [None, 'n', 'c']},\n",
       "  'trained_model': ================= \n",
       "  ForecasterSarimax \n",
       "  ================= \n",
       "  Regressor:  ARIMA(7,1,0)(0,0,0)[0] intercept \n",
       "  Regressor parameters: {'maxiter': 200, 'method': 'lbfgs', 'order': (7, 1, 0), 'out_of_sample_size': 0, 'scoring': 'mse', 'scoring_args': None, 'seasonal_order': (0, 0, 0, 0), 'start_params': None, 'suppress_warnings': False, 'trend': 'n', 'with_intercept': True} \n",
       "  fit_kwargs: {} \n",
       "  Window size: 1 \n",
       "  Transformer for y: MinMaxScaler() \n",
       "  Transformer for exog: None \n",
       "  Exogenous included: False \n",
       "  Type of exogenous variable: None \n",
       "  Exogenous variables names: None \n",
       "  Training range: [Timestamp('2022-08-23 00:00:00'), Timestamp('2023-07-07 00:00:00')] \n",
       "  Training index type: DatetimeIndex \n",
       "  Training index frequency: D \n",
       "  Creation date: 2023-07-18 22:10:24 \n",
       "  Last fit date: 2023-07-18 22:23:05 \n",
       "  Index seen by the forecaster: DatetimeIndex(['2022-08-23', '2022-08-24', '2022-08-25', '2022-08-26',\n",
       "                 '2022-08-27', '2022-08-28', '2022-08-29', '2022-08-30',\n",
       "                 '2022-08-31', '2022-09-01',\n",
       "                 ...\n",
       "                 '2023-06-28', '2023-06-29', '2023-06-30', '2023-07-01',\n",
       "                 '2023-07-02', '2023-07-03', '2023-07-04', '2023-07-05',\n",
       "                 '2023-07-06', '2023-07-07'],\n",
       "                dtype='datetime64[ns]', name='index', length=319, freq='D') \n",
       "  Skforecast version: 0.9.1 \n",
       "  Python version: 3.10.12 \n",
       "  Forecaster id: None }}"
      ]
     },
     "execution_count": 29,
     "metadata": {},
     "output_type": "execute_result"
    }
   ],
   "source": [
    "forecaster_model.models"
   ]
  },
  {
   "cell_type": "code",
   "execution_count": 30,
   "metadata": {},
   "outputs": [
    {
     "name": "stdout",
     "output_type": "stream",
     "text": [
      "----------------------------------------\n",
      "Métricas de modelo ridge:\n",
      "--mse: 546.0947588254577\n",
      "--mape: 1.0200010207348107\n",
      "--r2: -2.4026758879002315\n",
      "----------------------------------------\n",
      "Métricas de modelo xgbregressor:\n",
      "--mse: 926.8005121327858\n",
      "--mape: 1.1630532233028248\n",
      "--r2: -4.774825164611711\n",
      "----------------------------------------\n",
      "Métricas de modelo arima:\n",
      "--mse: 523.814290855835\n",
      "--mape: 0.9965830045171875\n",
      "--r2: -2.2638479465839154\n"
     ]
    }
   ],
   "source": [
    "forecaster_model.evaluate_models(data_test)"
   ]
  },
  {
   "cell_type": "code",
   "execution_count": 31,
   "metadata": {},
   "outputs": [
    {
     "name": "stdout",
     "output_type": "stream",
     "text": [
      "winner: arima  metrics = {'mse': 523.814290855835, 'mape': 0.9965830045171875, 'r2': -2.2638479465839154}\n"
     ]
    }
   ],
   "source": [
    "forecaster_model.select_best_model()\n",
    "\n",
    "print(f'winner: {forecaster_model.best_model_name}  metrics = {forecaster_model.best_model_metrics}')"
   ]
  },
  {
   "cell_type": "code",
   "execution_count": 32,
   "metadata": {},
   "outputs": [
    {
     "data": {
      "text/plain": [
       "{'maxiter': 200,\n",
       " 'method': 'lbfgs',\n",
       " 'order': (7, 1, 0),\n",
       " 'out_of_sample_size': 0,\n",
       " 'scoring': 'mse',\n",
       " 'scoring_args': None,\n",
       " 'seasonal_order': (0, 0, 0, 0),\n",
       " 'start_params': None,\n",
       " 'suppress_warnings': False,\n",
       " 'trend': 'n',\n",
       " 'with_intercept': True}"
      ]
     },
     "execution_count": 32,
     "metadata": {},
     "output_type": "execute_result"
    }
   ],
   "source": [
    "forecaster_model.best_model.params"
   ]
  },
  {
   "cell_type": "code",
   "execution_count": 33,
   "metadata": {},
   "outputs": [
    {
     "data": {
      "text/plain": [
       "2023-07-08    45.176072\n",
       "2023-07-09    54.474108\n",
       "2023-07-10    48.460993\n",
       "2023-07-11    53.026487\n",
       "2023-07-12    49.590285\n",
       "2023-07-13    52.207236\n",
       "2023-07-14    47.027056\n",
       "Freq: D, Name: pred, dtype: float64"
      ]
     },
     "metadata": {},
     "output_type": "display_data"
    }
   ],
   "source": [
    "# Predict\n",
    "# ==============================================================================\n",
    "# Predict only a subset of steps\n",
    "predictions = forecaster_model.best_model.predict(steps=steps)#, exog=data_test[['DiaSemana','Mes','EsFestivo']])\n",
    "display(predictions)"
   ]
  },
  {
   "cell_type": "code",
   "execution_count": 34,
   "metadata": {},
   "outputs": [
    {
     "data": {
      "image/png": "[encoded data removed]",
      "text/plain": [
       "<Figure size 432x216 with 1 Axes>"
      ]
     },
     "metadata": {
      "needs_background": "light"
     },
     "output_type": "display_data"
    }
   ],
   "source": [
    "import matplotlib.pyplot as plt\n",
    "# Plot predictions\n",
    "# ==============================================================================\n",
    "fig, ax = plt.subplots(figsize=(6, 3))\n",
    "data_test[[y]].plot(ax=ax, label='test')\n",
    "predictions.plot(ax=ax, label='predictions')\n",
    "ax.legend();"
   ]
  },
  {
   "cell_type": "code",
   "execution_count": 35,
   "metadata": {},
   "outputs": [],
   "source": [
    "window_size = forecaster_model.best_model.window_size"
   ]
  },
  {
   "cell_type": "code",
   "execution_count": 38,
   "metadata": {},
   "outputs": [
    {
     "data": {
      "text/plain": [
       "2023-07-15    33.633835\n",
       "2023-07-16    27.309533\n",
       "2023-07-17    31.868713\n",
       "2023-07-18    27.004265\n",
       "2023-07-19    30.488650\n",
       "2023-07-20    27.329953\n",
       "2023-07-21    29.482496\n",
       "Freq: D, Name: pred, dtype: float64"
      ]
     },
     "metadata": {},
     "output_type": "display_data"
    }
   ],
   "source": [
    "# Predict\n",
    "# ==============================================================================\n",
    "# Predict only a subset of steps\n",
    "predictions = forecaster_model.best_model.predict(steps=steps,last_window=data_test[y])#, exog=data_test[['DiaSemana','Mes','EsFestivo']])\n",
    "display(predictions)"
   ]
  },
  {
   "cell_type": "code",
   "execution_count": 39,
   "metadata": {},
   "outputs": [
    {
     "data": {
      "image/png": "[encoded data removed]",
      "text/plain": [
       "<Figure size 432x216 with 1 Axes>"
      ]
     },
     "metadata": {
      "needs_background": "light"
     },
     "output_type": "display_data"
    }
   ],
   "source": [
    "fig, ax = plt.subplots(figsize=(6, 3))\n",
    "data_test[y].plot(ax=ax, label='test')\n",
    "predictions.plot(ax=ax, label='predictions')\n",
    "ax.legend();"
   ]
  }
 ],
 "metadata": {
  "kernelspec": {
   "display_name": "Python 3",
   "language": "python",
   "name": "python3"
  },
  "language_info": {
   "codemirror_mode": {
    "name": "ipython",
    "version": 3
   },
   "file_extension": ".py",
   "mimetype": "text/x-python",
   "name": "python",
   "nbconvert_exporter": "python",
   "pygments_lexer": "ipython3",
   "version": "3.10.12"
  },
  "orig_nbformat": 4
 },
 "nbformat": 4,
 "nbformat_minor": 2
}
