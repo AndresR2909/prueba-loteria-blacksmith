{
  "cells": [
    {
      "attachments": {},
      "cell_type": "markdown",
      "metadata": {},
      "source": [
        "# Create production ML pipelines with Python SDK v2\n"
      ]
    },
    {
      "attachments": {},
      "cell_type": "markdown",
      "metadata": {},
      "source": [
        "\n",
        "- connect to your Azure ML workspace\n",
        "- create Azure ML data assets\n",
        "- create reusable Azure ML components\n",
        "- create, validate and run Azure ML pipelines\n",
        "- deploy the newly-trained model as an endpoint\n",
        "- call the Azure ML endpoint for inferencing"
      ]
    },
    {
      "attachments": {},
      "cell_type": "markdown",
      "metadata": {},
      "source": [
        "**Requirements** - In order to benefit from this tutorial, you need to have:\n",
        "- basic understanding of Machine Learning projects workflow\n",
        "- an Azure subscription. If you don't have an Azure subscription, [create a free account](https://aka.ms/AMLFree) before you begin.\n",
        "- a working Azure ML workspace. A workspace can be created via Azure Portal, Azure CLI, or Python SDK. [Read more](https://docs.microsoft.com/en-us/azure/machine-learning/how-to-manage-workspace?tabs=python).\n",
        "- a Python environmnet\n",
        "- [installed Azure Machine Learning Python SDK v2](https://github.com/Azure/azureml-examples/blob/sdk-preview/sdk/setup.sh)"
      ]
    },
    {
      "attachments": {},
      "cell_type": "markdown",
      "metadata": {},
      "source": [
        "```\n",
        "prueba-loteria-blacksmith \n",
        "    src\n",
        "        data_prep\n",
        "            data_prep.py\n",
        "            data_prep.yml  \n",
        "        train\n",
        "            train.py\n",
        "            train.yml   \n",
        "        conda_env\n",
        "            conda.yaml\n",
        "        deploy\n",
        "            sample-request.json\n",
        "        local\n",
        "            eda.ipynb\n",
        "            test_classes\n",
        "        predict\n",
        "        e2e-ml-workflow.ipynb\n",
        "```\n",
        "\n",
        "\n",
        "Reference for more available credentials if it does not work for you:,[azure-identity reference doc](https://docs.microsoft.com/en-us/python/api/azure-identity/azure.identity?view=azure-python)."
      ]
    },
    {
      "cell_type": "code",
      "execution_count": 12,
      "metadata": {
        "attributes": {
          "classes": [
            "Python"
          ],
          "id": ""
        },
        "name": "import-mlclient"
      },
      "outputs": [],
      "source": [
        "# Handle to the workspace\n",
        "from azure.ai.ml import MLClient\n",
        "\n",
        "# Authentication package\n",
        "from azure.identity import DefaultAzureCredential, InteractiveBrowserCredential\n",
        "\n",
        "try:\n",
        "    credential = DefaultAzureCredential()\n",
        "    # Check if given credential can get token successfully.\n",
        "    credential.get_token(\"https://management.azure.com/.default\")\n",
        "except Exception as ex:\n",
        "    # Fall back to InteractiveBrowserCredential in case DefaultAzureCredential not work\n",
        "    credential = InteractiveBrowserCredential()"
      ]
    },
    {
      "attachments": {},
      "cell_type": "markdown",
      "metadata": {},
      "source": [
        "In the next cell, enter your Subscription ID, Resource Group name and Workspace name. To find your Subscription ID:\n",
        "1. In the upper right Azure Machine Learning Studio toolbar, select your workspace name.\n",
        "1. At the bottom, select **View all properties in Azure Portal**\n",
        "1. Copy the value from Azure Portal into the code."
      ]
    },
    {
      "cell_type": "code",
      "execution_count": 13,
      "metadata": {
        "attributes": {
          "classes": [
            "Python"
          ],
          "id": ""
        },
        "name": "ml_client"
      },
      "outputs": [],
      "source": [
        "# Get a handle to the workspace\n",
        "ml_client = MLClient(\n",
        "    credential=credential,\n",
        "    subscription_id='dc213d49-9972-4e9e-a634-246cefdc8655',\n",
        "    resource_group_name='rg-test-loteriablacksmith',\n",
        "    workspace_name='aml-test-loteriablacksmith',\n",
        ")"
      ]
    },
    {
      "attachments": {},
      "cell_type": "markdown",
      "metadata": {},
      "source": [
        "## Register data from local machine\n",
        "\n",
        "Azure ML uses a [`Data`](https://docs.microsoft.com/azure/machine-learning/how-to-create-register-data-assets?tabs=Python-SDK) object to register a reusable definition of data, and consume data within a pipeline."
      ]
    },
    {
      "cell_type": "code",
      "execution_count": 14,
      "metadata": {},
      "outputs": [
        {
          "data": {
            "text/plain": [
              "'c:\\\\repos\\\\prueba-loteria-blacksmith\\\\src'"
            ]
          },
          "execution_count": 14,
          "metadata": {},
          "output_type": "execute_result"
        }
      ],
      "source": [
        "import os\n",
        "os.getcwd()"
      ]
    },
    {
      "cell_type": "code",
      "execution_count": 34,
      "metadata": {
        "name": "credit_data"
      },
      "outputs": [],
      "source": [
        "from azure.ai.ml.entities import Data\n",
        "from azure.ai.ml.constants import AssetTypes\n",
        "\n",
        "local_path = \"data/Txs_LoteriaBlacksmith.xlsx\"\n",
        "\n",
        "historical_data = Data(\n",
        "    name=\"ds_loteria_blacksmith\",\n",
        "    path=local_path,\n",
        "    type=AssetTypes.URI_FILE,\n",
        "    description=\"Dataset de historicos de ventas de loteria de Blacksmith\",\n",
        "    tags={\"source_type\": \"local\", \"source\": \"unknown\"},\n",
        "    version=\"1.0.1\",\n",
        ")"
      ]
    },
    {
      "cell_type": "code",
      "execution_count": 35,
      "metadata": {
        "attributes": {
          "classes": [
            "Python"
          ],
          "id": ""
        },
        "name": "update-credit_data"
      },
      "outputs": [
        {
          "name": "stdout",
          "output_type": "stream",
          "text": [
            "Dataset with name ds_loteria_blacksmith was registered to workspace, the dataset version is 1.0.1\n"
          ]
        }
      ],
      "source": [
        "data = ml_client.data.create_or_update(historical_data)\n",
        "print(\n",
        "    f\"Dataset with name {data.name} was registered to workspace, the dataset version is {data.version}\"\n",
        ")"
      ]
    },
    {
      "attachments": {},
      "cell_type": "markdown",
      "metadata": {},
      "source": [
        "## Create a job environment for pipeline steps\n",
        "\n",
        "create a conda environment for your jobs, using a conda yaml file."
      ]
    },
    {
      "attachments": {},
      "cell_type": "markdown",
      "metadata": {},
      "source": [
        "The specification contains some usual packages, that you'll use in your pipeline (numpy, pip).\n",
        "\n",
        "\n",
        "Use the *yaml* file to create and register this custom environment in your workspace:"
      ]
    },
    {
      "cell_type": "code",
      "execution_count": 6,
      "metadata": {
        "attributes": {
          "classes": [
            "Python"
          ],
          "id": ""
        },
        "name": "custom_env_name"
      },
      "outputs": [
        {
          "name": "stdout",
          "output_type": "stream",
          "text": [
            "Environment with name aml-test-blacksmith is registered to workspace, the environment version is 0.1.0\n"
          ]
        }
      ],
      "source": [
        "from azure.ai.ml.entities import Environment\n",
        "\n",
        "custom_env_name = \"aml-test-blacksmith\"\n",
        "\n",
        "pipeline_job_env = Environment(\n",
        "    name=custom_env_name,\n",
        "    description=\"Custom environment for lotery blacksmith forecasting pipeline\",\n",
        "    tags={\"libraries\": \"scikit-learn,pmdarima,skforecast,xgboost\"},\n",
        "    conda_file=os.path.join('conda_env', \"conda.yml\"),\n",
        "    image=\"mcr.microsoft.com/azureml/openmpi4.1.0-ubuntu20.04:latest\",\n",
        "    version=None,\n",
        ")\n",
        "pipeline_job_env = ml_client.environments.create_or_update(pipeline_job_env)\n",
        "\n",
        "print(\n",
        "    f\"Environment with name {pipeline_job_env.name} is registered to workspace, the environment version is {pipeline_job_env.version}\"\n",
        ")"
      ]
    },
    {
      "attachments": {},
      "cell_type": "markdown",
      "metadata": {},
      "source": [
        "## Build the training pipeline\n",
        "\n",
        "## Create component 1: data prep (using yaml definition)\n",
        "first component. This component handles the preprocessing of the data. The preprocessing task is performed in the *data_prep.py* python file."
      ]
    },
    {
      "cell_type": "code",
      "execution_count": 36,
      "metadata": {},
      "outputs": [],
      "source": [
        "# importing the Component Package\n",
        "from azure.ai.ml import command\n",
        "from azure.ai.ml import Input, Output\n",
        "from azure.ai.ml import load_component,load_job"
      ]
    },
    {
      "cell_type": "code",
      "execution_count": 82,
      "metadata": {
        "name": "data_prep_component"
      },
      "outputs": [],
      "source": [
        "dir = 'c:/repos/prueba-loteria-blacksmith/src/data_preprocess/'\n",
        "\n",
        "# Loading the component from the yml file\n",
        "data_prep_component = load_component(source=os.path.join(dir, \"data_prep.yml\"))\n"
      ]
    },
    {
      "cell_type": "code",
      "execution_count": 83,
      "metadata": {},
      "outputs": [
        {
          "name": "stderr",
          "output_type": "stream",
          "text": [
            "\u001b[32mUploading data_preprocess (0.01 MBs): 100%|##########| 8564/8564 [00:00<00:00, 9329.66it/s] \n",
            "\u001b[39m\n",
            "\n"
          ]
        },
        {
          "name": "stdout",
          "output_type": "stream",
          "text": [
            "Component data_prep_lotery_blacksmith with Version 2023-07-19-02-34-06-6997362 is registered\n"
          ]
        }
      ],
      "source": [
        "# Now we register the component to the workspace\n",
        "data_prep_component = ml_client.create_or_update(data_prep_component)\n",
        "\n",
        "# Create (register) the component in your workspace\n",
        "print(\n",
        "    f\"Component {data_prep_component.name} with Version {data_prep_component.version} is registered\"\n",
        ")"
      ]
    },
    {
      "attachments": {},
      "cell_type": "markdown",
      "metadata": {},
      "source": [
        "## Create component 2: training (using yaml definition)\n",
        "\n",
        "The second component that you'll create will consume the training and test data, train and select a model and return the output model and the predictions."
      ]
    },
    {
      "cell_type": "code",
      "execution_count": 171,
      "metadata": {
        "attributes": {
          "classes": [
            "Python"
          ],
          "id": ""
        },
        "name": "train_component"
      },
      "outputs": [],
      "source": [
        "# Loading the component from the yml file\n",
        "train_component = load_component(source=os.path.join(\"train\", \"train.yml\"))"
      ]
    },
    {
      "attachments": {},
      "cell_type": "markdown",
      "metadata": {},
      "source": [
        "Now create and register the component:"
      ]
    },
    {
      "cell_type": "code",
      "execution_count": 172,
      "metadata": {
        "attributes": {
          "classes": [
            "Python"
          ],
          "id": ""
        },
        "name": "update-train_component"
      },
      "outputs": [
        {
          "name": "stderr",
          "output_type": "stream",
          "text": [
            "\u001b[32mUploading train (0.01 MBs): 100%|##########| 14739/14739 [00:01<00:00, 9178.95it/s]\n",
            "\u001b[39m\n",
            "\n"
          ]
        },
        {
          "name": "stdout",
          "output_type": "stream",
          "text": [
            "Component train_and_select_blacksmith_model with Version 2023-07-19-13-12-35-4566977 is registered\n"
          ]
        }
      ],
      "source": [
        "# Now we register the component to the workspace\n",
        "train_component = ml_client.create_or_update(train_component)\n",
        "\n",
        "# Create (register) the component in your workspace\n",
        "print(\n",
        "    f\"Component {train_component.name} with Version {train_component.version} is registered\"\n",
        ")"
      ]
    },
    {
      "cell_type": "markdown",
      "metadata": {},
      "source": [
        "## Create component 3: predict (using yaml definition)"
      ]
    },
    {
      "cell_type": "code",
      "execution_count": 173,
      "metadata": {},
      "outputs": [
        {
          "name": "stdout",
          "output_type": "stream",
          "text": [
            "Component forecasting_lotery_blacksmith with Version 2023-07-19-13-12-44-2927962 is registered\n"
          ]
        }
      ],
      "source": [
        "predict_component = load_component(source=os.path.join(\"predict\", \"predict.yml\"))\n",
        "# Now we register the component to the workspace\n",
        "predict_component = ml_client.create_or_update(predict_component)\n",
        "\n",
        "# Create (register) the component in your workspace\n",
        "print(\n",
        "    f\"Component {predict_component.name} with Version {predict_component.version} is registered\"\n",
        ")"
      ]
    },
    {
      "attachments": {},
      "cell_type": "markdown",
      "metadata": {},
      "source": [
        "## Create the pipeline from components"
      ]
    },
    {
      "cell_type": "code",
      "execution_count": 175,
      "metadata": {},
      "outputs": [],
      "source": [
        "dir = 'c:/repos/prueba-loteria-blacksmith/src/data_preprocess/'\n",
        "def run_job(data_path,test_steps=7, \n",
        "            index_column='FechaTx',\n",
        "            target_column='Cantidad',\n",
        "            filter_column='CodSDV',\n",
        "            filter_value=109216,\n",
        "            del_columns ='IdCliente,NomProducto,CodProducto',\n",
        "            lags_grid = '7,21,60',\n",
        "            sel_exog= \"Mes,Dia,media_movil\", #Mes,Dia,media_movil\n",
        "            ):\n",
        "    \n",
        "    # Experiment\n",
        "    experiment_name = f'lotery-blacksmith-best-model-{filter_value}'\n",
        "    registered_model_name = f'lotery-blacksmith-{filter_value}'\n",
        "\n",
        "    #configure the job \n",
        "    \n",
        "    # Let's instantiate the pipeline with the parameters of our choice\n",
        "    \n",
        "    pipeline_job_yml = load_job(source=os.path.join(\"./pipeline.yml\"))\n",
        "    pipeline_job_yml.experiment_name=experiment_name\n",
        "    pipeline_job_yml.compute= \"dedicated-cluster\" #dedicated-cluster serverless\n",
        "    pipeline_job_yml.inputs.pipeline_job_input_data=Input(type=\"uri_file\", path=data_path)\n",
        "    pipeline_job_yml.inputs.pipeline_job_test_steps=test_steps\n",
        "    pipeline_job_yml.inputs.pipeline_job_index_column=index_column\n",
        "    pipeline_job_yml.inputs.pipeline_job_target_column=target_column\n",
        "    pipeline_job_yml.inputs.pipeline_job_filter_column=filter_column\n",
        "    pipeline_job_yml.inputs.pipeline_job_filter_value=filter_value\n",
        "    pipeline_job_yml.inputs.pipeline_job_del_columns=del_columns\n",
        "    pipeline_job_yml.inputs.pipeline_job_lags_grid=lags_grid\n",
        "    pipeline_job_yml.inputs.pipeline_job_sel_exog=sel_exog\n",
        "    pipeline_job_yml.inputs.pipeline_job_registered_model_name=registered_model_name\n",
        "\n",
        "    # submit the pipeline job\n",
        "    pipeline_job = ml_client.jobs.create_or_update(pipeline_job_yml,\n",
        "    # Project's name\n",
        "    experiment_name=experiment_name)\n",
        "    \n",
        "    return pipeline_job"
      ]
    },
    {
      "cell_type": "code",
      "execution_count": 176,
      "metadata": {},
      "outputs": [],
      "source": [
        "data_path=\"azureml:ds_loteria_blacksmith:1.0.1\"#1.0.0\n"
      ]
    },
    {
      "cell_type": "code",
      "execution_count": 157,
      "metadata": {},
      "outputs": [
        {
          "data": {
            "text/html": [
              "<table style=\"width:100%\"><tr><th>Experiment</th><th>Name</th><th>Type</th><th>Status</th><th>Details Page</th></tr><tr><td>lotery-blacksmith-best-model-109216</td><td>ivory_steelpan_917xlfsk77</td><td>pipeline</td><td>Preparing</td><td><a href=\"https://ml.azure.com/runs/ivory_steelpan_917xlfsk77?wsid=/subscriptions/dc213d49-9972-4e9e-a634-246cefdc8655/resourcegroups/rg-test-loteriablacksmith/workspaces/aml-test-loteriablacksmith&amp;tid=a21f4c27-33e5-4cad-a1ff-6167bd9f9a45\" target=\"_blank\" rel=\"noopener\">Link to Azure Machine Learning studio</a></td></tr></table>"
            ],
            "text/plain": [
              "PipelineJob({'inputs': {'pipeline_job_input_data': <azure.ai.ml.entities._job.pipeline._io.base.PipelineInput object at 0x00000277035189D0>, 'pipeline_job_test_steps': <azure.ai.ml.entities._job.pipeline._io.base.PipelineInput object at 0x00000277035196F0>, 'pipeline_job_index_column': <azure.ai.ml.entities._job.pipeline._io.base.PipelineInput object at 0x0000027703519570>, 'pipeline_job_target_column': <azure.ai.ml.entities._job.pipeline._io.base.PipelineInput object at 0x0000027703519510>, 'pipeline_job_filter_column': <azure.ai.ml.entities._job.pipeline._io.base.PipelineInput object at 0x0000027703518790>, 'pipeline_job_filter_value': <azure.ai.ml.entities._job.pipeline._io.base.PipelineInput object at 0x0000027703518D60>, 'pipeline_job_del_columns': <azure.ai.ml.entities._job.pipeline._io.base.PipelineInput object at 0x00000277035185B0>, 'pipeline_job_lags_grid': <azure.ai.ml.entities._job.pipeline._io.base.PipelineInput object at 0x0000027703518A00>, 'pipeline_job_sel_exog': <azure.ai.ml.entities._job.pipeline._io.base.PipelineInput object at 0x000002770351A830>, 'pipeline_job_registered_model_name': <azure.ai.ml.entities._job.pipeline._io.base.PipelineInput object at 0x000002770351BD30>}, 'outputs': {'pipeline_train_data': <azure.ai.ml.entities._job.pipeline._io.base.PipelineOutput object at 0x00000277041B6170>, 'pipeline_test_data': <azure.ai.ml.entities._job.pipeline._io.base.PipelineOutput object at 0x00000277041B5F30>, 'pipeline_output_data': <azure.ai.ml.entities._job.pipeline._io.base.PipelineOutput object at 0x00000277033D5EA0>, 'pipeline_model': <azure.ai.ml.entities._job.pipeline._io.base.PipelineOutput object at 0x00000277033D7280>, 'pipeline_predict_output': <azure.ai.ml.entities._job.pipeline._io.base.PipelineOutput object at 0x00000277033D5510>}, 'jobs': {}, 'component': PipelineComponent({'intellectual_property': None, 'auto_increment_version': False, 'source': 'REMOTE.WORKSPACE.JOB', 'is_anonymous': True, 'auto_delete_setting': None, 'name': 'azureml_anonymous', 'description': 'E2E pipeline for data preprocessing, training and selecting the best forecasting model', 'tags': {}, 'properties': {}, 'print_as_yaml': True, 'id': None, 'Resource__source_path': None, 'base_path': 'c:\\\\repos\\\\prueba-loteria-blacksmith\\\\src', 'creation_context': None, 'serialize': <msrest.serialization.Serializer object at 0x0000027701293D30>, 'version': '1', 'latest_version': None, 'schema': None, 'type': 'pipeline', 'display_name': 'lotery_blacksmith_pipeline', 'is_deterministic': None, 'inputs': {'pipeline_job_input_data': {}, 'pipeline_job_test_steps': {}, 'pipeline_job_index_column': {}, 'pipeline_job_target_column': {}, 'pipeline_job_filter_column': {}, 'pipeline_job_filter_value': {}, 'pipeline_job_del_columns': {}, 'pipeline_job_lags_grid': {}, 'pipeline_job_sel_exog': {}, 'pipeline_job_registered_model_name': {}}, 'outputs': {'pipeline_train_data': {}, 'pipeline_test_data': {}, 'pipeline_output_data': {}, 'pipeline_model': {}, 'pipeline_predict_output': {}}, 'yaml_str': None, 'other_parameter': {}, 'jobs': {'data_prep_job': Command({'parameters': {}, 'init': False, 'name': 'data_prep_job', 'type': 'command', 'status': None, 'log_files': None, 'description': None, 'tags': {}, 'properties': {}, 'print_as_yaml': True, 'id': None, 'Resource__source_path': None, 'base_path': 'c:\\\\repos\\\\prueba-loteria-blacksmith\\\\src', 'creation_context': None, 'serialize': <msrest.serialization.Serializer object at 0x00000277033D43D0>, 'allowed_keys': {}, 'key_restriction': False, 'logger': <Logger attr_dict (WARNING)>, 'display_name': None, 'experiment_name': None, 'compute': None, 'services': None, 'comment': None, 'job_inputs': {'input_data': '${{parent.inputs.pipeline_job_input_data}}', 'test_steps': '${{parent.inputs.pipeline_job_test_steps}}', 'index_column': '${{parent.inputs.pipeline_job_index_column}}', 'target_column': '${{parent.inputs.pipeline_job_target_column}}', 'filter_column': '${{parent.inputs.pipeline_job_filter_column}}', 'filter_value': '${{parent.inputs.pipeline_job_filter_value}}', 'del_columns': '${{parent.inputs.pipeline_job_del_columns}}'}, 'job_outputs': {'train_data': '${{parent.outputs.pipeline_train_data}}', 'test_data': '${{parent.outputs.pipeline_test_data}}', 'output_data': '${{parent.outputs.pipeline_output_data}}'}, 'inputs': {'input_data': <azure.ai.ml.entities._job.pipeline._io.base.NodeInput object at 0x00000277033D7C40>, 'test_steps': <azure.ai.ml.entities._job.pipeline._io.base.NodeInput object at 0x00000277033D7A60>, 'index_column': <azure.ai.ml.entities._job.pipeline._io.base.NodeInput object at 0x00000277033D66E0>, 'target_column': <azure.ai.ml.entities._job.pipeline._io.base.NodeInput object at 0x00000277033D4220>, 'filter_column': <azure.ai.ml.entities._job.pipeline._io.base.NodeInput object at 0x00000277033D7160>, 'filter_value': <azure.ai.ml.entities._job.pipeline._io.base.NodeInput object at 0x00000277033D6EF0>, 'del_columns': <azure.ai.ml.entities._job.pipeline._io.base.NodeInput object at 0x00000277033D5390>}, 'outputs': {'train_data': <azure.ai.ml.entities._job.pipeline._io.base.NodeOutput object at 0x00000277033D7B80>, 'test_data': <azure.ai.ml.entities._job.pipeline._io.base.NodeOutput object at 0x00000277033D5C90>, 'output_data': <azure.ai.ml.entities._job.pipeline._io.base.NodeOutput object at 0x00000277033D75B0>}, 'component': 'data_prep_lotery_blacksmith:2023-07-19-02-34-06-6997362', 'referenced_control_flow_node_instance_id': None, 'kwargs': {'services': None}, 'instance_id': 'f25252a5-9152-42f4-b434-61f6b3c2aabf', 'source': 'REMOTE.WORKSPACE.COMPONENT', 'validate_required_input_not_provided': True, 'limits': None, 'identity': None, 'distribution': None, 'environment_variables': {}, 'environment': None, 'resources': {'instance_count': 1}, 'queue_settings': None, 'swept': False}), 'train_job': Command({'parameters': {}, 'init': False, 'name': 'train_job', 'type': 'command', 'status': None, 'log_files': None, 'description': None, 'tags': {}, 'properties': {}, 'print_as_yaml': True, 'id': None, 'Resource__source_path': None, 'base_path': 'c:\\\\repos\\\\prueba-loteria-blacksmith\\\\src', 'creation_context': None, 'serialize': <msrest.serialization.Serializer object at 0x00000277033D4E20>, 'allowed_keys': {}, 'key_restriction': False, 'logger': <Logger attr_dict (WARNING)>, 'display_name': None, 'experiment_name': None, 'compute': None, 'services': None, 'comment': None, 'job_inputs': {'train_data': '${{parent.jobs.data_prep_job.outputs.train_data}}', 'test_data': '${{parent.jobs.data_prep_job.outputs.test_data}}', 'y_name': '${{parent.inputs.pipeline_job_target_column}}', 'steps': '${{parent.inputs.pipeline_job_test_steps}}', 'lags_grid': '${{parent.inputs.pipeline_job_lags_grid}}', 'sel_exog': '${{parent.inputs.pipeline_job_sel_exog}}', 'registered_model_name': '${{parent.inputs.pipeline_job_registered_model_name}}'}, 'job_outputs': {'model': '${{parent.outputs.pipeline_model}}'}, 'inputs': {'train_data': <azure.ai.ml.entities._job.pipeline._io.base.NodeInput object at 0x00000277033D7DF0>, 'test_data': <azure.ai.ml.entities._job.pipeline._io.base.NodeInput object at 0x00000277033D6860>, 'y_name': <azure.ai.ml.entities._job.pipeline._io.base.NodeInput object at 0x00000277033D4E50>, 'steps': <azure.ai.ml.entities._job.pipeline._io.base.NodeInput object at 0x0000027701293B80>, 'lags_grid': <azure.ai.ml.entities._job.pipeline._io.base.NodeInput object at 0x0000027701290460>, 'sel_exog': <azure.ai.ml.entities._job.pipeline._io.base.NodeInput object at 0x0000027701290700>, 'registered_model_name': <azure.ai.ml.entities._job.pipeline._io.base.NodeInput object at 0x0000027701292680>}, 'outputs': {'model': <azure.ai.ml.entities._job.pipeline._io.base.NodeOutput object at 0x00000277033D4D90>}, 'component': 'train_and_select_blacksmith_model:2023-07-19-06-54-32-8913697', 'referenced_control_flow_node_instance_id': None, 'kwargs': {'services': None}, 'instance_id': '52167ea9-95d7-40bb-bd1a-dbe91b4a8b2f', 'source': 'REMOTE.WORKSPACE.COMPONENT', 'validate_required_input_not_provided': True, 'limits': None, 'identity': None, 'distribution': None, 'environment_variables': {}, 'environment': None, 'resources': {'instance_count': 1}, 'queue_settings': None, 'swept': False}), 'predict_job': Command({'parameters': {}, 'init': False, 'name': 'predict_job', 'type': 'command', 'status': None, 'log_files': None, 'description': None, 'tags': {}, 'properties': {}, 'print_as_yaml': True, 'id': None, 'Resource__source_path': None, 'base_path': 'c:\\\\repos\\\\prueba-loteria-blacksmith\\\\src', 'creation_context': None, 'serialize': <msrest.serialization.Serializer object at 0x0000027701290160>, 'allowed_keys': {}, 'key_restriction': False, 'logger': <Logger attr_dict (WARNING)>, 'display_name': None, 'experiment_name': None, 'compute': None, 'services': None, 'comment': None, 'job_inputs': {'model_path': '${{parent.jobs.train_job.outputs.model}}', 'test_data': '${{parent.jobs.data_prep_job.outputs.test_data}}', 'model_name': '${{parent.inputs.pipeline_job_registered_model_name}}', 'steps': '${{parent.inputs.pipeline_job_test_steps}}'}, 'job_outputs': {'predict_output': '${{parent.outputs.pipeline_predict_output}}'}, 'inputs': {'model_path': <azure.ai.ml.entities._job.pipeline._io.base.NodeInput object at 0x0000027701290130>, 'test_data': <azure.ai.ml.entities._job.pipeline._io.base.NodeInput object at 0x0000027701290040>, 'model_name': <azure.ai.ml.entities._job.pipeline._io.base.NodeInput object at 0x0000027701293F40>, 'steps': <azure.ai.ml.entities._job.pipeline._io.base.NodeInput object at 0x00000277012905B0>}, 'outputs': {'predict_output': <azure.ai.ml.entities._job.pipeline._io.base.NodeOutput object at 0x00000277012909A0>}, 'component': 'forecasting_lotery_blacksmith:2023-07-19-06-54-35-0248143', 'referenced_control_flow_node_instance_id': None, 'kwargs': {'services': None}, 'instance_id': 'd9a7dfe5-6357-4ebb-9157-ebcbba22f08e', 'source': 'REMOTE.WORKSPACE.COMPONENT', 'validate_required_input_not_provided': True, 'limits': None, 'identity': None, 'distribution': None, 'environment_variables': {}, 'environment': None, 'resources': {'instance_count': 1}, 'queue_settings': None, 'swept': False})}, 'job_types': {'command': 3}, 'job_sources': {'REMOTE.WORKSPACE.COMPONENT': 3}, 'source_job_id': None}), 'type': 'pipeline', 'status': 'Preparing', 'log_files': None, 'name': 'ivory_steelpan_917xlfsk77', 'description': 'E2E pipeline for data preprocessing, training and selecting the best forecasting model', 'tags': {}, 'properties': {'mlflow.source.git.repoURL': 'https://github.com/AndresR2909/prueba-loteria-blacksmith.git', 'mlflow.source.git.branch': 'master', 'mlflow.source.git.commit': '5e41acd2039ea63ef29009dc627dfdd2a81dd3a1', 'azureml.git.dirty': 'True', 'azureml.DevPlatv2': 'true', 'azureml.DatasetAccessMode': 'Asset', 'azureml.runsource': 'azureml.PipelineRun', 'runSource': 'MFE', 'runType': 'HTTP', 'azureml.parameters': '{\"pipeline_job_test_steps\":\"7\",\"pipeline_job_index_column\":\"FechaTx\",\"pipeline_job_target_column\":\"Cantidad\",\"pipeline_job_filter_column\":\"CodSDV\",\"pipeline_job_filter_value\":\"109216\",\"pipeline_job_del_columns\":\"IdCliente,NomProducto,CodProducto\",\"pipeline_job_lags_grid\":\"7,21,60\",\"pipeline_job_sel_exog\":\"Mes,Dia,media_movil\",\"pipeline_job_registered_model_name\":\"lotery-blacksmith-109216\"}', 'azureml.continue_on_step_failure': 'True', 'azureml.continue_on_failed_optional_input': 'True', 'azureml.enforceRerun': 'False', 'azureml.defaultComputeName': 'dedicated-cluster', 'azureml.defaultDataStoreName': 'workspaceblobstore', 'azureml.pipelineComponent': 'pipelinerun'}, 'print_as_yaml': True, 'id': '/subscriptions/dc213d49-9972-4e9e-a634-246cefdc8655/resourceGroups/rg-test-loteriablacksmith/providers/Microsoft.MachineLearningServices/workspaces/aml-test-loteriablacksmith/jobs/ivory_steelpan_917xlfsk77', 'Resource__source_path': None, 'base_path': 'c:\\\\repos\\\\prueba-loteria-blacksmith\\\\src', 'creation_context': <azure.ai.ml.entities._system_data.SystemData object at 0x0000027703519240>, 'serialize': <msrest.serialization.Serializer object at 0x00000277033D52A0>, 'display_name': 'lotery_blacksmith_pipeline', 'experiment_name': 'lotery-blacksmith-best-model-109216', 'compute': 'dedicated-cluster', 'services': {'Tracking': {'endpoint': 'azureml://eastus.api.azureml.ms/mlflow/v1.0/subscriptions/dc213d49-9972-4e9e-a634-246cefdc8655/resourceGroups/rg-test-loteriablacksmith/providers/Microsoft.MachineLearningServices/workspaces/aml-test-loteriablacksmith?', 'type': 'Tracking'}, 'Studio': {'endpoint': 'https://ml.azure.com/runs/ivory_steelpan_917xlfsk77?wsid=/subscriptions/dc213d49-9972-4e9e-a634-246cefdc8655/resourcegroups/rg-test-loteriablacksmith/workspaces/aml-test-loteriablacksmith&tid=a21f4c27-33e5-4cad-a1ff-6167bd9f9a45', 'type': 'Studio'}}, 'settings': {}, 'identity': None, 'default_code': None, 'default_environment': None})"
            ]
          },
          "execution_count": 157,
          "metadata": {},
          "output_type": "execute_result"
        }
      ],
      "source": [
        "run_job(data_path,filter_value =109216)"
      ]
    },
    {
      "cell_type": "code",
      "execution_count": 177,
      "metadata": {},
      "outputs": [
        {
          "data": {
            "text/html": [
              "<table style=\"width:100%\"><tr><th>Experiment</th><th>Name</th><th>Type</th><th>Status</th><th>Details Page</th></tr><tr><td>lotery-blacksmith-best-model-123340</td><td>serene_holiday_z1m5xs2lll</td><td>pipeline</td><td>Preparing</td><td><a href=\"https://ml.azure.com/runs/serene_holiday_z1m5xs2lll?wsid=/subscriptions/dc213d49-9972-4e9e-a634-246cefdc8655/resourcegroups/rg-test-loteriablacksmith/workspaces/aml-test-loteriablacksmith&amp;tid=a21f4c27-33e5-4cad-a1ff-6167bd9f9a45\" target=\"_blank\" rel=\"noopener\">Link to Azure Machine Learning studio</a></td></tr></table>"
            ],
            "text/plain": [
              "PipelineJob({'inputs': {'pipeline_job_input_data': <azure.ai.ml.entities._job.pipeline._io.base.PipelineInput object at 0x00000277041AE140>, 'pipeline_job_test_steps': <azure.ai.ml.entities._job.pipeline._io.base.PipelineInput object at 0x00000277041AE0B0>, 'pipeline_job_index_column': <azure.ai.ml.entities._job.pipeline._io.base.PipelineInput object at 0x00000277041ADE70>, 'pipeline_job_target_column': <azure.ai.ml.entities._job.pipeline._io.base.PipelineInput object at 0x00000277041AE950>, 'pipeline_job_filter_column': <azure.ai.ml.entities._job.pipeline._io.base.PipelineInput object at 0x00000277041ADED0>, 'pipeline_job_filter_value': <azure.ai.ml.entities._job.pipeline._io.base.PipelineInput object at 0x00000277041AD8A0>, 'pipeline_job_del_columns': <azure.ai.ml.entities._job.pipeline._io.base.PipelineInput object at 0x00000277041AE9B0>, 'pipeline_job_lags_grid': <azure.ai.ml.entities._job.pipeline._io.base.PipelineInput object at 0x00000277041AD8D0>, 'pipeline_job_sel_exog': <azure.ai.ml.entities._job.pipeline._io.base.PipelineInput object at 0x00000277041AEA10>, 'pipeline_job_registered_model_name': <azure.ai.ml.entities._job.pipeline._io.base.PipelineInput object at 0x00000277041ADB40>}, 'outputs': {'pipeline_train_data': <azure.ai.ml.entities._job.pipeline._io.base.PipelineOutput object at 0x00000277041ACE80>, 'pipeline_test_data': <azure.ai.ml.entities._job.pipeline._io.base.PipelineOutput object at 0x00000277041ADCC0>, 'pipeline_output_data': <azure.ai.ml.entities._job.pipeline._io.base.PipelineOutput object at 0x00000277041ADCF0>, 'pipeline_model': <azure.ai.ml.entities._job.pipeline._io.base.PipelineOutput object at 0x00000277041ADC00>, 'pipeline_predict_output': <azure.ai.ml.entities._job.pipeline._io.base.PipelineOutput object at 0x00000277041ADD20>}, 'jobs': {}, 'component': PipelineComponent({'intellectual_property': None, 'auto_increment_version': False, 'source': 'REMOTE.WORKSPACE.JOB', 'is_anonymous': True, 'auto_delete_setting': None, 'name': 'azureml_anonymous', 'description': 'E2E pipeline for data preprocessing, training and selecting the best forecasting model', 'tags': {}, 'properties': {}, 'print_as_yaml': True, 'id': None, 'Resource__source_path': None, 'base_path': 'c:\\\\repos\\\\prueba-loteria-blacksmith\\\\src', 'creation_context': None, 'serialize': <msrest.serialization.Serializer object at 0x00000277041AC8B0>, 'version': '1', 'latest_version': None, 'schema': None, 'type': 'pipeline', 'display_name': 'lotery_blacksmith_pipeline', 'is_deterministic': None, 'inputs': {'pipeline_job_input_data': {}, 'pipeline_job_test_steps': {}, 'pipeline_job_index_column': {}, 'pipeline_job_target_column': {}, 'pipeline_job_filter_column': {}, 'pipeline_job_filter_value': {}, 'pipeline_job_del_columns': {}, 'pipeline_job_lags_grid': {}, 'pipeline_job_sel_exog': {}, 'pipeline_job_registered_model_name': {}}, 'outputs': {'pipeline_train_data': {}, 'pipeline_test_data': {}, 'pipeline_output_data': {}, 'pipeline_model': {}, 'pipeline_predict_output': {}}, 'yaml_str': None, 'other_parameter': {}, 'jobs': {'data_prep_job': Command({'parameters': {}, 'init': False, 'name': 'data_prep_job', 'type': 'command', 'status': None, 'log_files': None, 'description': None, 'tags': {}, 'properties': {}, 'print_as_yaml': True, 'id': None, 'Resource__source_path': None, 'base_path': 'c:\\\\repos\\\\prueba-loteria-blacksmith\\\\src', 'creation_context': None, 'serialize': <msrest.serialization.Serializer object at 0x0000027703DB4430>, 'allowed_keys': {}, 'key_restriction': False, 'logger': <Logger attr_dict (WARNING)>, 'display_name': None, 'experiment_name': None, 'compute': None, 'services': None, 'comment': None, 'job_inputs': {'input_data': '${{parent.inputs.pipeline_job_input_data}}', 'test_steps': '${{parent.inputs.pipeline_job_test_steps}}', 'index_column': '${{parent.inputs.pipeline_job_index_column}}', 'target_column': '${{parent.inputs.pipeline_job_target_column}}', 'filter_column': '${{parent.inputs.pipeline_job_filter_column}}', 'filter_value': '${{parent.inputs.pipeline_job_filter_value}}', 'del_columns': '${{parent.inputs.pipeline_job_del_columns}}'}, 'job_outputs': {'train_data': '${{parent.outputs.pipeline_train_data}}', 'test_data': '${{parent.outputs.pipeline_test_data}}', 'output_data': '${{parent.outputs.pipeline_output_data}}'}, 'inputs': {'input_data': <azure.ai.ml.entities._job.pipeline._io.base.NodeInput object at 0x0000027703DB5120>, 'test_steps': <azure.ai.ml.entities._job.pipeline._io.base.NodeInput object at 0x0000027703DB50C0>, 'index_column': <azure.ai.ml.entities._job.pipeline._io.base.NodeInput object at 0x0000027703DB44F0>, 'target_column': <azure.ai.ml.entities._job.pipeline._io.base.NodeInput object at 0x0000027703DB7850>, 'filter_column': <azure.ai.ml.entities._job.pipeline._io.base.NodeInput object at 0x0000027703DB5180>, 'filter_value': <azure.ai.ml.entities._job.pipeline._io.base.NodeInput object at 0x0000027703DB78B0>, 'del_columns': <azure.ai.ml.entities._job.pipeline._io.base.NodeInput object at 0x0000027703DB4190>}, 'outputs': {'train_data': <azure.ai.ml.entities._job.pipeline._io.base.NodeOutput object at 0x0000027703DB71F0>, 'test_data': <azure.ai.ml.entities._job.pipeline._io.base.NodeOutput object at 0x0000027703DB4A90>, 'output_data': <azure.ai.ml.entities._job.pipeline._io.base.NodeOutput object at 0x0000027703DB71C0>}, 'component': 'data_prep_lotery_blacksmith:2023-07-19-02-34-06-6997362', 'referenced_control_flow_node_instance_id': None, 'kwargs': {'services': None}, 'instance_id': '25ef7e52-39e3-47b4-9b5a-f084d53eeadd', 'source': 'REMOTE.WORKSPACE.COMPONENT', 'validate_required_input_not_provided': True, 'limits': None, 'identity': None, 'distribution': None, 'environment_variables': {}, 'environment': None, 'resources': {'instance_count': 1}, 'queue_settings': None, 'swept': False}), 'train_job': Command({'parameters': {}, 'init': False, 'name': 'train_job', 'type': 'command', 'status': None, 'log_files': None, 'description': None, 'tags': {}, 'properties': {}, 'print_as_yaml': True, 'id': None, 'Resource__source_path': None, 'base_path': 'c:\\\\repos\\\\prueba-loteria-blacksmith\\\\src', 'creation_context': None, 'serialize': <msrest.serialization.Serializer object at 0x0000027703DB4880>, 'allowed_keys': {}, 'key_restriction': False, 'logger': <Logger attr_dict (WARNING)>, 'display_name': None, 'experiment_name': None, 'compute': None, 'services': None, 'comment': None, 'job_inputs': {'train_data': '${{parent.jobs.data_prep_job.outputs.train_data}}', 'test_data': '${{parent.jobs.data_prep_job.outputs.test_data}}', 'y_name': '${{parent.inputs.pipeline_job_target_column}}', 'steps': '${{parent.inputs.pipeline_job_test_steps}}', 'lags_grid': '${{parent.inputs.pipeline_job_lags_grid}}', 'sel_exog': '${{parent.inputs.pipeline_job_sel_exog}}', 'registered_model_name': '${{parent.inputs.pipeline_job_registered_model_name}}'}, 'job_outputs': {'model': '${{parent.outputs.pipeline_model}}'}, 'inputs': {'train_data': <azure.ai.ml.entities._job.pipeline._io.base.NodeInput object at 0x0000027703DB7C70>, 'test_data': <azure.ai.ml.entities._job.pipeline._io.base.NodeInput object at 0x0000027703DB4550>, 'y_name': <azure.ai.ml.entities._job.pipeline._io.base.NodeInput object at 0x0000027703DB4280>, 'steps': <azure.ai.ml.entities._job.pipeline._io.base.NodeInput object at 0x0000027703DB73A0>, 'lags_grid': <azure.ai.ml.entities._job.pipeline._io.base.NodeInput object at 0x0000027703DB7640>, 'sel_exog': <azure.ai.ml.entities._job.pipeline._io.base.NodeInput object at 0x0000027703DB7A30>, 'registered_model_name': <azure.ai.ml.entities._job.pipeline._io.base.NodeInput object at 0x0000027703DB7280>}, 'outputs': {'model': <azure.ai.ml.entities._job.pipeline._io.base.NodeOutput object at 0x0000027703DB7A60>}, 'component': 'train_and_select_blacksmith_model:2023-07-19-13-12-35-4566977', 'referenced_control_flow_node_instance_id': None, 'kwargs': {'services': None}, 'instance_id': '575135ff-8249-4d1a-9244-beb6906dbfd7', 'source': 'REMOTE.WORKSPACE.COMPONENT', 'validate_required_input_not_provided': True, 'limits': None, 'identity': None, 'distribution': None, 'environment_variables': {}, 'environment': None, 'resources': {'instance_count': 1}, 'queue_settings': None, 'swept': False}), 'predict_job': Command({'parameters': {}, 'init': False, 'name': 'predict_job', 'type': 'command', 'status': None, 'log_files': None, 'description': None, 'tags': {}, 'properties': {}, 'print_as_yaml': True, 'id': None, 'Resource__source_path': None, 'base_path': 'c:\\\\repos\\\\prueba-loteria-blacksmith\\\\src', 'creation_context': None, 'serialize': <msrest.serialization.Serializer object at 0x00000277041AED70>, 'allowed_keys': {}, 'key_restriction': False, 'logger': <Logger attr_dict (WARNING)>, 'display_name': None, 'experiment_name': None, 'compute': None, 'services': None, 'comment': None, 'job_inputs': {'model_path': '${{parent.jobs.train_job.outputs.model}}', 'test_data': '${{parent.jobs.data_prep_job.outputs.output_data}}', 'model_name': '${{parent.inputs.pipeline_job_registered_model_name}}', 'steps': '${{parent.inputs.pipeline_job_test_steps}}'}, 'job_outputs': {'predict_output': '${{parent.outputs.pipeline_predict_output}}'}, 'inputs': {'model_path': <azure.ai.ml.entities._job.pipeline._io.base.NodeInput object at 0x00000277041AE440>, 'test_data': <azure.ai.ml.entities._job.pipeline._io.base.NodeInput object at 0x00000277041AE1D0>, 'model_name': <azure.ai.ml.entities._job.pipeline._io.base.NodeInput object at 0x00000277041ADBA0>, 'steps': <azure.ai.ml.entities._job.pipeline._io.base.NodeInput object at 0x00000277041AE080>}, 'outputs': {'predict_output': <azure.ai.ml.entities._job.pipeline._io.base.NodeOutput object at 0x00000277041ADF90>}, 'component': 'forecasting_lotery_blacksmith:2023-07-19-13-12-44-2927962', 'referenced_control_flow_node_instance_id': None, 'kwargs': {'services': None}, 'instance_id': '1ce31874-071a-4a36-b62a-16eccd736fe8', 'source': 'REMOTE.WORKSPACE.COMPONENT', 'validate_required_input_not_provided': True, 'limits': None, 'identity': None, 'distribution': None, 'environment_variables': {}, 'environment': None, 'resources': {'instance_count': 1}, 'queue_settings': None, 'swept': False})}, 'job_types': {'command': 3}, 'job_sources': {'REMOTE.WORKSPACE.COMPONENT': 3}, 'source_job_id': None}), 'type': 'pipeline', 'status': 'Preparing', 'log_files': None, 'name': 'serene_holiday_z1m5xs2lll', 'description': 'E2E pipeline for data preprocessing, training and selecting the best forecasting model', 'tags': {}, 'properties': {'mlflow.source.git.repoURL': 'https://github.com/AndresR2909/prueba-loteria-blacksmith.git', 'mlflow.source.git.branch': 'master', 'mlflow.source.git.commit': '5e41acd2039ea63ef29009dc627dfdd2a81dd3a1', 'azureml.git.dirty': 'True', 'azureml.DevPlatv2': 'true', 'azureml.DatasetAccessMode': 'Asset', 'azureml.runsource': 'azureml.PipelineRun', 'runSource': 'MFE', 'runType': 'HTTP', 'azureml.parameters': '{\"pipeline_job_test_steps\":\"7\",\"pipeline_job_index_column\":\"FechaTx\",\"pipeline_job_target_column\":\"Cantidad\",\"pipeline_job_filter_column\":\"CodSDV\",\"pipeline_job_filter_value\":\"123340\",\"pipeline_job_del_columns\":\"IdCliente,NomProducto,CodProducto\",\"pipeline_job_lags_grid\":\"7,21,60\",\"pipeline_job_sel_exog\":\"Mes,Dia,media_movil\",\"pipeline_job_registered_model_name\":\"lotery-blacksmith-123340\"}', 'azureml.continue_on_step_failure': 'True', 'azureml.continue_on_failed_optional_input': 'True', 'azureml.enforceRerun': 'False', 'azureml.defaultComputeName': 'dedicated-cluster', 'azureml.defaultDataStoreName': 'workspaceblobstore', 'azureml.pipelineComponent': 'pipelinerun'}, 'print_as_yaml': True, 'id': '/subscriptions/dc213d49-9972-4e9e-a634-246cefdc8655/resourceGroups/rg-test-loteriablacksmith/providers/Microsoft.MachineLearningServices/workspaces/aml-test-loteriablacksmith/jobs/serene_holiday_z1m5xs2lll', 'Resource__source_path': None, 'base_path': 'c:\\\\repos\\\\prueba-loteria-blacksmith\\\\src', 'creation_context': <azure.ai.ml.entities._system_data.SystemData object at 0x00000277041ACDF0>, 'serialize': <msrest.serialization.Serializer object at 0x00000277041AE9E0>, 'display_name': 'lotery_blacksmith_pipeline', 'experiment_name': 'lotery-blacksmith-best-model-123340', 'compute': 'dedicated-cluster', 'services': {'Tracking': {'endpoint': 'azureml://eastus.api.azureml.ms/mlflow/v1.0/subscriptions/dc213d49-9972-4e9e-a634-246cefdc8655/resourceGroups/rg-test-loteriablacksmith/providers/Microsoft.MachineLearningServices/workspaces/aml-test-loteriablacksmith?', 'type': 'Tracking'}, 'Studio': {'endpoint': 'https://ml.azure.com/runs/serene_holiday_z1m5xs2lll?wsid=/subscriptions/dc213d49-9972-4e9e-a634-246cefdc8655/resourcegroups/rg-test-loteriablacksmith/workspaces/aml-test-loteriablacksmith&tid=a21f4c27-33e5-4cad-a1ff-6167bd9f9a45', 'type': 'Studio'}}, 'settings': {}, 'identity': None, 'default_code': None, 'default_environment': None})"
            ]
          },
          "execution_count": 177,
          "metadata": {},
          "output_type": "execute_result"
        }
      ],
      "source": [
        "run_job(data_path,filter_value =123340)"
      ]
    },
    {
      "cell_type": "code",
      "execution_count": 131,
      "metadata": {},
      "outputs": [],
      "source": [
        "top_cod_sdv = ['109216','123340','106061','3036101','128117','130756','106296','106730','106738','106599','107500','108390','108113',\n",
        " '143979','127500','107506','123389','106365','106496','107268','129550','113407','106292','144393','133872']"
      ]
    },
    {
      "cell_type": "code",
      "execution_count": 181,
      "metadata": {},
      "outputs": [],
      "source": [
        "top_cod_sdv = ['107506','123389','106365','113407','106292','144393']"
      ]
    },
    {
      "cell_type": "code",
      "execution_count": 179,
      "metadata": {},
      "outputs": [],
      "source": [
        "for cod_sdv in top_cod_sdv:\n",
        "    run_job(data_path,filter_value = int(cod_sdv))"
      ]
    }
  ],
  "metadata": {
    "categories": [
      "SDK v2",
      "tutorials"
    ],
    "celltoolbar": "Edit Metadata",
    "description": {
      "description": "Create production ML pipelines with Python SDK v2 in a Jupyter notebook"
    },
    "kernelspec": {
      "display_name": "Python 3",
      "language": "python",
      "name": "python3"
    },
    "language_info": {
      "codemirror_mode": {
        "name": "ipython",
        "version": 3
      },
      "file_extension": ".py",
      "mimetype": "text/x-python",
      "name": "python",
      "nbconvert_exporter": "python",
      "pygments_lexer": "ipython3",
      "version": "3.10.12"
    },
    "nteract": {
      "version": "nteract-front-end@1.0.0"
    }
  },
  "nbformat": 4,
  "nbformat_minor": 1
}
