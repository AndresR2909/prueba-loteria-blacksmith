{
  "cells": [
    {
      "attachments": {},
      "cell_type": "markdown",
      "metadata": {},
      "source": [
        "# Create production ML pipelines with Python SDK v2\n"
      ]
    },
    {
      "attachments": {},
      "cell_type": "markdown",
      "metadata": {},
      "source": [
        "\n",
        "- connect to your Azure ML workspace\n",
        "- create Azure ML data assets\n",
        "- create reusable Azure ML components\n",
        "- create, validate and run Azure ML pipelines\n",
        "- deploy the newly-trained model as an endpoint\n",
        "- call the Azure ML endpoint for inferencing"
      ]
    },
    {
      "attachments": {},
      "cell_type": "markdown",
      "metadata": {},
      "source": [
        "**Requirements** - In order to benefit from this tutorial, you need to have:\n",
        "- basic understanding of Machine Learning projects workflow\n",
        "- an Azure subscription. If you don't have an Azure subscription, [create a free account](https://aka.ms/AMLFree) before you begin.\n",
        "- a working Azure ML workspace. A workspace can be created via Azure Portal, Azure CLI, or Python SDK. [Read more](https://docs.microsoft.com/en-us/azure/machine-learning/how-to-manage-workspace?tabs=python).\n",
        "- a Python environmnet\n",
        "- [installed Azure Machine Learning Python SDK v2](https://github.com/Azure/azureml-examples/blob/sdk-preview/sdk/setup.sh)"
      ]
    },
    {
      "attachments": {},
      "cell_type": "markdown",
      "metadata": {},
      "source": [
        "```\n",
        "prueba-loteria-blacksmith \n",
        "    src\n",
        "        data_prep\n",
        "            data_prep.py\n",
        "            data_prep.yml  \n",
        "        train\n",
        "            train.py\n",
        "            train.yml   \n",
        "        conda_env\n",
        "            conda.yaml\n",
        "        deploy\n",
        "            sample-request.json\n",
        "        local\n",
        "            eda.ipynb\n",
        "            test_classes\n",
        "        predict\n",
        "        e2e-ml-workflow.ipynb\n",
        "```\n",
        "\n",
        "\n",
        "Reference for more available credentials if it does not work for you:,[azure-identity reference doc](https://docs.microsoft.com/en-us/python/api/azure-identity/azure.identity?view=azure-python)."
      ]
    },
    {
      "cell_type": "code",
      "execution_count": 12,
      "metadata": {
        "attributes": {
          "classes": [
            "Python"
          ],
          "id": ""
        },
        "name": "import-mlclient"
      },
      "outputs": [],
      "source": [
        "# Handle to the workspace\n",
        "from azure.ai.ml import MLClient\n",
        "\n",
        "# Authentication package\n",
        "from azure.identity import DefaultAzureCredential, InteractiveBrowserCredential\n",
        "\n",
        "try:\n",
        "    credential = DefaultAzureCredential()\n",
        "    # Check if given credential can get token successfully.\n",
        "    credential.get_token(\"https://management.azure.com/.default\")\n",
        "except Exception as ex:\n",
        "    # Fall back to InteractiveBrowserCredential in case DefaultAzureCredential not work\n",
        "    credential = InteractiveBrowserCredential()"
      ]
    },
    {
      "attachments": {},
      "cell_type": "markdown",
      "metadata": {},
      "source": [
        "In the next cell, enter your Subscription ID, Resource Group name and Workspace name. To find your Subscription ID:\n",
        "1. In the upper right Azure Machine Learning Studio toolbar, select your workspace name.\n",
        "1. At the bottom, select **View all properties in Azure Portal**\n",
        "1. Copy the value from Azure Portal into the code."
      ]
    },
    {
      "cell_type": "code",
      "execution_count": 13,
      "metadata": {
        "attributes": {
          "classes": [
            "Python"
          ],
          "id": ""
        },
        "name": "ml_client"
      },
      "outputs": [],
      "source": [
        "# Get a handle to the workspace\n",
        "ml_client = MLClient(\n",
        "    credential=credential,\n",
        "    subscription_id='dc213d49-9972-4e9e-a634-246cefdc8655',\n",
        "    resource_group_name='rg-test-loteriablacksmith',\n",
        "    workspace_name='aml-test-loteriablacksmith',\n",
        ")"
      ]
    },
    {
      "attachments": {},
      "cell_type": "markdown",
      "metadata": {},
      "source": [
        "## Register data from local machine\n",
        "\n",
        "Azure ML uses a [`Data`](https://docs.microsoft.com/azure/machine-learning/how-to-create-register-data-assets?tabs=Python-SDK) object to register a reusable definition of data, and consume data within a pipeline."
      ]
    },
    {
      "cell_type": "code",
      "execution_count": 14,
      "metadata": {},
      "outputs": [
        {
          "data": {
            "text/plain": [
              "'c:\\\\repos\\\\prueba-loteria-blacksmith\\\\src'"
            ]
          },
          "execution_count": 14,
          "metadata": {},
          "output_type": "execute_result"
        }
      ],
      "source": [
        "import os\n",
        "os.getcwd()"
      ]
    },
    {
      "cell_type": "code",
      "execution_count": 34,
      "metadata": {
        "name": "credit_data"
      },
      "outputs": [],
      "source": [
        "from azure.ai.ml.entities import Data\n",
        "from azure.ai.ml.constants import AssetTypes\n",
        "\n",
        "local_path = \"data/Txs_LoteriaBlacksmith.xlsx\"\n",
        "\n",
        "historical_data = Data(\n",
        "    name=\"ds_loteria_blacksmith\",\n",
        "    path=local_path,\n",
        "    type=AssetTypes.URI_FILE,\n",
        "    description=\"Dataset de historicos de ventas de loteria de Blacksmith\",\n",
        "    tags={\"source_type\": \"local\", \"source\": \"unknown\"},\n",
        "    version=\"1.0.1\",\n",
        ")"
      ]
    },
    {
      "cell_type": "code",
      "execution_count": 35,
      "metadata": {
        "attributes": {
          "classes": [
            "Python"
          ],
          "id": ""
        },
        "name": "update-credit_data"
      },
      "outputs": [
        {
          "name": "stdout",
          "output_type": "stream",
          "text": [
            "Dataset with name ds_loteria_blacksmith was registered to workspace, the dataset version is 1.0.1\n"
          ]
        }
      ],
      "source": [
        "data = ml_client.data.create_or_update(historical_data)\n",
        "print(\n",
        "    f\"Dataset with name {data.name} was registered to workspace, the dataset version is {data.version}\"\n",
        ")"
      ]
    },
    {
      "attachments": {},
      "cell_type": "markdown",
      "metadata": {},
      "source": [
        "## Create a job environment for pipeline steps\n",
        "\n",
        "create a conda environment for your jobs, using a conda yaml file."
      ]
    },
    {
      "attachments": {},
      "cell_type": "markdown",
      "metadata": {},
      "source": [
        "The specification contains some usual packages, that you'll use in your pipeline (numpy, pip).\n",
        "\n",
        "\n",
        "Use the *yaml* file to create and register this custom environment in your workspace:"
      ]
    },
    {
      "cell_type": "code",
      "execution_count": 6,
      "metadata": {
        "attributes": {
          "classes": [
            "Python"
          ],
          "id": ""
        },
        "name": "custom_env_name"
      },
      "outputs": [
        {
          "name": "stdout",
          "output_type": "stream",
          "text": [
            "Environment with name aml-test-blacksmith is registered to workspace, the environment version is 0.1.0\n"
          ]
        }
      ],
      "source": [
        "from azure.ai.ml.entities import Environment\n",
        "\n",
        "custom_env_name = \"aml-test-blacksmith\"\n",
        "\n",
        "pipeline_job_env = Environment(\n",
        "    name=custom_env_name,\n",
        "    description=\"Custom environment for lotery blacksmith forecasting pipeline\",\n",
        "    tags={\"libraries\": \"scikit-learn,pmdarima,skforecast,xgboost\"},\n",
        "    conda_file=os.path.join('conda_env', \"conda.yml\"),\n",
        "    image=\"mcr.microsoft.com/azureml/openmpi4.1.0-ubuntu20.04:latest\",\n",
        "    version=None,\n",
        ")\n",
        "pipeline_job_env = ml_client.environments.create_or_update(pipeline_job_env)\n",
        "\n",
        "print(\n",
        "    f\"Environment with name {pipeline_job_env.name} is registered to workspace, the environment version is {pipeline_job_env.version}\"\n",
        ")"
      ]
    },
    {
      "attachments": {},
      "cell_type": "markdown",
      "metadata": {},
      "source": [
        "## Build the training pipeline\n",
        "\n",
        "## Create component 1: data prep (using yaml definition)\n",
        "first component. This component handles the preprocessing of the data. The preprocessing task is performed in the *data_prep.py* python file."
      ]
    },
    {
      "cell_type": "code",
      "execution_count": 36,
      "metadata": {},
      "outputs": [],
      "source": [
        "# importing the Component Package\n",
        "from azure.ai.ml import command\n",
        "from azure.ai.ml import Input, Output\n",
        "from azure.ai.ml import load_component,load_job"
      ]
    },
    {
      "cell_type": "code",
      "execution_count": 82,
      "metadata": {
        "name": "data_prep_component"
      },
      "outputs": [],
      "source": [
        "dir = 'c:/repos/prueba-loteria-blacksmith/src/data_preprocess/'\n",
        "\n",
        "# Loading the component from the yml file\n",
        "data_prep_component = load_component(source=os.path.join(dir, \"data_prep.yml\"))\n"
      ]
    },
    {
      "cell_type": "code",
      "execution_count": 83,
      "metadata": {},
      "outputs": [
        {
          "name": "stderr",
          "output_type": "stream",
          "text": [
            "\u001b[32mUploading data_preprocess (0.01 MBs): 100%|##########| 8564/8564 [00:00<00:00, 9329.66it/s] \n",
            "\u001b[39m\n",
            "\n"
          ]
        },
        {
          "name": "stdout",
          "output_type": "stream",
          "text": [
            "Component data_prep_lotery_blacksmith with Version 2023-07-19-02-34-06-6997362 is registered\n"
          ]
        }
      ],
      "source": [
        "# Now we register the component to the workspace\n",
        "data_prep_component = ml_client.create_or_update(data_prep_component)\n",
        "\n",
        "# Create (register) the component in your workspace\n",
        "print(\n",
        "    f\"Component {data_prep_component.name} with Version {data_prep_component.version} is registered\"\n",
        ")"
      ]
    },
    {
      "attachments": {},
      "cell_type": "markdown",
      "metadata": {},
      "source": [
        "## Create component 2: training (using yaml definition)\n",
        "\n",
        "The second component that you'll create will consume the training and test data, train and select a model and return the output model and the predictions."
      ]
    },
    {
      "cell_type": "code",
      "execution_count": 109,
      "metadata": {
        "attributes": {
          "classes": [
            "Python"
          ],
          "id": ""
        },
        "name": "train_component"
      },
      "outputs": [],
      "source": [
        "# Loading the component from the yml file\n",
        "train_component = load_component(source=os.path.join(\"train\", \"train.yml\"))"
      ]
    },
    {
      "attachments": {},
      "cell_type": "markdown",
      "metadata": {},
      "source": [
        "Now create and register the component:"
      ]
    },
    {
      "cell_type": "code",
      "execution_count": 137,
      "metadata": {
        "attributes": {
          "classes": [
            "Python"
          ],
          "id": ""
        },
        "name": "update-train_component"
      },
      "outputs": [
        {
          "name": "stdout",
          "output_type": "stream",
          "text": [
            "Component train_and_select_blacksmith_model with Version 2023-07-19-04-02-18-4290380 is registered\n"
          ]
        }
      ],
      "source": [
        "# Now we register the component to the workspace\n",
        "train_component = ml_client.create_or_update(train_component)\n",
        "\n",
        "# Create (register) the component in your workspace\n",
        "print(\n",
        "    f\"Component {train_component.name} with Version {train_component.version} is registered\"\n",
        ")"
      ]
    },
    {
      "cell_type": "markdown",
      "metadata": {},
      "source": [
        "## Create component 3: predict (using yaml definition)"
      ]
    },
    {
      "cell_type": "code",
      "execution_count": 138,
      "metadata": {},
      "outputs": [
        {
          "name": "stdout",
          "output_type": "stream",
          "text": [
            "Component forecasting_lotery_blacksmith with Version 2023-07-19-05-38-39-7224824 is registered\n"
          ]
        }
      ],
      "source": [
        "predict_component = load_component(source=os.path.join(\"predict\", \"predict.yml\"))\n",
        "# Now we register the component to the workspace\n",
        "predict_component = ml_client.create_or_update(predict_component)\n",
        "\n",
        "# Create (register) the component in your workspace\n",
        "print(\n",
        "    f\"Component {predict_component.name} with Version {predict_component.version} is registered\"\n",
        ")"
      ]
    },
    {
      "attachments": {},
      "cell_type": "markdown",
      "metadata": {},
      "source": [
        "## Create the pipeline from components"
      ]
    },
    {
      "cell_type": "code",
      "execution_count": 134,
      "metadata": {},
      "outputs": [],
      "source": [
        "dir = 'c:/repos/prueba-loteria-blacksmith/src/data_preprocess/'\n",
        "def run_job(data_path,test_steps=7, \n",
        "            index_column='FechaTx',\n",
        "            target_column='Cantidad',\n",
        "            filter_column='CodSDV',\n",
        "            filter_value=109216,\n",
        "            del_columns ='IdCliente,NomProducto,CodProducto',\n",
        "            lags_grid = '7,21,60',\n",
        "            sel_exog= \"Mes,Dia,media_movil\", #Mes,Dia,media_movil\n",
        "            ):\n",
        "    \n",
        "    # Experiment\n",
        "    experiment_name = f'lotery-blacksmith-best-model-{filter_value}'\n",
        "    registered_model_name = f'lotery-blacksmith-{filter_value}'\n",
        "\n",
        "    #configure the job \n",
        "    \n",
        "    # Let's instantiate the pipeline with the parameters of our choice\n",
        "    \n",
        "    pipeline_job_yml = load_job(source=os.path.join(\"./pipeline.yml\"))\n",
        "    pipeline_job_yml.experiment_name=experiment_name\n",
        "    pipeline_job_yml.compute= \"dedicated-cluster\" #dedicated-cluster serverless\n",
        "    pipeline_job_yml.inputs.pipeline_job_input_data=Input(type=\"uri_file\", path=data_path)\n",
        "    pipeline_job_yml.inputs.pipeline_job_test_steps=test_steps\n",
        "    pipeline_job_yml.inputs.pipeline_job_index_column=index_column\n",
        "    pipeline_job_yml.inputs.pipeline_job_target_column=target_column\n",
        "    pipeline_job_yml.inputs.pipeline_job_filter_column=filter_column\n",
        "    pipeline_job_yml.inputs.pipeline_job_filter_value=filter_value\n",
        "    pipeline_job_yml.inputs.pipeline_job_del_columns=del_columns\n",
        "    pipeline_job_yml.inputs.pipeline_job_lags_grid=lags_grid\n",
        "    pipeline_job_yml.inputs.pipeline_job_sel_exog=sel_exog\n",
        "    pipeline_job_yml.inputs.pipeline_job_registered_model_name=registered_model_name\n",
        "\n",
        "    # submit the pipeline job\n",
        "    pipeline_job = ml_client.jobs.create_or_update(pipeline_job_yml,\n",
        "    # Project's name\n",
        "    experiment_name=experiment_name)\n",
        "    \n",
        "    return pipeline_job"
      ]
    },
    {
      "cell_type": "code",
      "execution_count": 135,
      "metadata": {},
      "outputs": [],
      "source": [
        "data_path=\"azureml:ds_loteria_blacksmith:1.0.1\"#1.0.0\n"
      ]
    },
    {
      "cell_type": "code",
      "execution_count": 136,
      "metadata": {},
      "outputs": [
        {
          "data": {
            "text/html": [
              "<table style=\"width:100%\"><tr><th>Experiment</th><th>Name</th><th>Type</th><th>Status</th><th>Details Page</th></tr><tr><td>lotery-blacksmith-best-model-109216</td><td>modest_spring_3d4wg9dz7w</td><td>pipeline</td><td>Preparing</td><td><a href=\"https://ml.azure.com/runs/modest_spring_3d4wg9dz7w?wsid=/subscriptions/dc213d49-9972-4e9e-a634-246cefdc8655/resourcegroups/rg-test-loteriablacksmith/workspaces/aml-test-loteriablacksmith&amp;tid=a21f4c27-33e5-4cad-a1ff-6167bd9f9a45\" target=\"_blank\" rel=\"noopener\">Link to Azure Machine Learning studio</a></td></tr></table>"
            ],
            "text/plain": [
              "PipelineJob({'inputs': {'pipeline_job_input_data': <azure.ai.ml.entities._job.pipeline._io.base.PipelineInput object at 0x00000277017F66E0>, 'pipeline_job_test_steps': <azure.ai.ml.entities._job.pipeline._io.base.PipelineInput object at 0x00000277017F6410>, 'pipeline_job_index_column': <azure.ai.ml.entities._job.pipeline._io.base.PipelineInput object at 0x00000277017F7EB0>, 'pipeline_job_target_column': <azure.ai.ml.entities._job.pipeline._io.base.PipelineInput object at 0x00000277017F6FB0>, 'pipeline_job_filter_column': <azure.ai.ml.entities._job.pipeline._io.base.PipelineInput object at 0x00000277017F5AB0>, 'pipeline_job_filter_value': <azure.ai.ml.entities._job.pipeline._io.base.PipelineInput object at 0x00000277017F5450>, 'pipeline_job_del_columns': <azure.ai.ml.entities._job.pipeline._io.base.PipelineInput object at 0x00000277017F54B0>, 'pipeline_job_lags_grid': <azure.ai.ml.entities._job.pipeline._io.base.PipelineInput object at 0x00000277017F7B50>, 'pipeline_job_sel_exog': <azure.ai.ml.entities._job.pipeline._io.base.PipelineInput object at 0x00000277017F5570>, 'pipeline_job_registered_model_name': <azure.ai.ml.entities._job.pipeline._io.base.PipelineInput object at 0x00000277017F5BA0>}, 'outputs': {'pipeline_train_data': <azure.ai.ml.entities._job.pipeline._io.base.PipelineOutput object at 0x00000277017F5EA0>, 'pipeline_test_data': <azure.ai.ml.entities._job.pipeline._io.base.PipelineOutput object at 0x00000277017F53F0>, 'pipeline_output_data': <azure.ai.ml.entities._job.pipeline._io.base.PipelineOutput object at 0x00000277017F5C30>, 'pipeline_model': <azure.ai.ml.entities._job.pipeline._io.base.PipelineOutput object at 0x00000277017F6320>, 'pipeline_predict_output': <azure.ai.ml.entities._job.pipeline._io.base.PipelineOutput object at 0x00000277017F5510>}, 'jobs': {}, 'component': PipelineComponent({'intellectual_property': None, 'auto_increment_version': False, 'source': 'REMOTE.WORKSPACE.JOB', 'is_anonymous': True, 'auto_delete_setting': None, 'name': 'azureml_anonymous', 'description': 'E2E pipeline for data preprocessing, training and selecting the best forecasting model', 'tags': {}, 'properties': {}, 'print_as_yaml': True, 'id': None, 'Resource__source_path': None, 'base_path': 'c:\\\\repos\\\\prueba-loteria-blacksmith\\\\src', 'creation_context': None, 'serialize': <msrest.serialization.Serializer object at 0x00000277017F5630>, 'version': '1', 'latest_version': None, 'schema': None, 'type': 'pipeline', 'display_name': 'lotery_blacksmith_pipeline', 'is_deterministic': None, 'inputs': {'pipeline_job_input_data': {}, 'pipeline_job_test_steps': {}, 'pipeline_job_index_column': {}, 'pipeline_job_target_column': {}, 'pipeline_job_filter_column': {}, 'pipeline_job_filter_value': {}, 'pipeline_job_del_columns': {}, 'pipeline_job_lags_grid': {}, 'pipeline_job_sel_exog': {}, 'pipeline_job_registered_model_name': {}}, 'outputs': {'pipeline_train_data': {}, 'pipeline_test_data': {}, 'pipeline_output_data': {}, 'pipeline_model': {}, 'pipeline_predict_output': {}}, 'yaml_str': None, 'other_parameter': {}, 'jobs': {'data_prep_job': Command({'parameters': {}, 'init': False, 'name': 'data_prep_job', 'type': 'command', 'status': None, 'log_files': None, 'description': None, 'tags': {}, 'properties': {}, 'print_as_yaml': True, 'id': None, 'Resource__source_path': None, 'base_path': 'c:\\\\repos\\\\prueba-loteria-blacksmith\\\\src', 'creation_context': None, 'serialize': <msrest.serialization.Serializer object at 0x0000027701C40AF0>, 'allowed_keys': {}, 'key_restriction': False, 'logger': <Logger attr_dict (WARNING)>, 'display_name': None, 'experiment_name': None, 'compute': None, 'services': None, 'comment': None, 'job_inputs': {'input_data': '${{parent.inputs.pipeline_job_input_data}}', 'test_steps': '${{parent.inputs.pipeline_job_test_steps}}', 'index_column': '${{parent.inputs.pipeline_job_index_column}}', 'target_column': '${{parent.inputs.pipeline_job_target_column}}', 'filter_column': '${{parent.inputs.pipeline_job_filter_column}}', 'filter_value': '${{parent.inputs.pipeline_job_filter_value}}', 'del_columns': '${{parent.inputs.pipeline_job_del_columns}}'}, 'job_outputs': {'train_data': '${{parent.outputs.pipeline_train_data}}', 'test_data': '${{parent.outputs.pipeline_test_data}}', 'output_data': '${{parent.outputs.pipeline_output_data}}'}, 'inputs': {'input_data': <azure.ai.ml.entities._job.pipeline._io.base.NodeInput object at 0x0000027701C411B0>, 'test_steps': <azure.ai.ml.entities._job.pipeline._io.base.NodeInput object at 0x0000027701C41F00>, 'index_column': <azure.ai.ml.entities._job.pipeline._io.base.NodeInput object at 0x0000027701C41630>, 'target_column': <azure.ai.ml.entities._job.pipeline._io.base.NodeInput object at 0x0000027701C43CD0>, 'filter_column': <azure.ai.ml.entities._job.pipeline._io.base.NodeInput object at 0x0000027701C43FA0>, 'filter_value': <azure.ai.ml.entities._job.pipeline._io.base.NodeInput object at 0x0000027701C428F0>, 'del_columns': <azure.ai.ml.entities._job.pipeline._io.base.NodeInput object at 0x0000027701C414E0>}, 'outputs': {'train_data': <azure.ai.ml.entities._job.pipeline._io.base.NodeOutput object at 0x0000027701C40BE0>, 'test_data': <azure.ai.ml.entities._job.pipeline._io.base.NodeOutput object at 0x0000027701C43220>, 'output_data': <azure.ai.ml.entities._job.pipeline._io.base.NodeOutput object at 0x0000027701C40670>}, 'component': 'data_prep_lotery_blacksmith:2023-07-19-02-34-06-6997362', 'referenced_control_flow_node_instance_id': None, 'kwargs': {'services': None}, 'instance_id': 'c298ff41-0ac7-4a25-810c-9e28aee6a454', 'source': 'REMOTE.WORKSPACE.COMPONENT', 'validate_required_input_not_provided': True, 'limits': None, 'identity': None, 'distribution': None, 'environment_variables': {}, 'environment': None, 'resources': {'instance_count': 1}, 'queue_settings': None, 'swept': False}), 'train_job': Command({'parameters': {}, 'init': False, 'name': 'train_job', 'type': 'command', 'status': None, 'log_files': None, 'description': None, 'tags': {}, 'properties': {}, 'print_as_yaml': True, 'id': None, 'Resource__source_path': None, 'base_path': 'c:\\\\repos\\\\prueba-loteria-blacksmith\\\\src', 'creation_context': None, 'serialize': <msrest.serialization.Serializer object at 0x0000027701C41060>, 'allowed_keys': {}, 'key_restriction': False, 'logger': <Logger attr_dict (WARNING)>, 'display_name': None, 'experiment_name': None, 'compute': None, 'services': None, 'comment': None, 'job_inputs': {'train_data': '${{parent.jobs.data_prep_job.outputs.train_data}}', 'test_data': '${{parent.jobs.data_prep_job.outputs.test_data}}', 'y_name': '${{parent.inputs.pipeline_job_target_column}}', 'steps': '${{parent.inputs.pipeline_job_test_steps}}', 'lags_grid': '${{parent.inputs.pipeline_job_lags_grid}}', 'sel_exog': '${{parent.inputs.pipeline_job_sel_exog}}', 'registered_model_name': '${{parent.inputs.pipeline_job_registered_model_name}}'}, 'job_outputs': {'model': '${{parent.outputs.pipeline_model}}'}, 'inputs': {'train_data': <azure.ai.ml.entities._job.pipeline._io.base.NodeInput object at 0x0000027701C43E20>, 'test_data': <azure.ai.ml.entities._job.pipeline._io.base.NodeInput object at 0x0000027701C410F0>, 'y_name': <azure.ai.ml.entities._job.pipeline._io.base.NodeInput object at 0x0000027701C40E80>, 'steps': <azure.ai.ml.entities._job.pipeline._io.base.NodeInput object at 0x00000277017F6050>, 'lags_grid': <azure.ai.ml.entities._job.pipeline._io.base.NodeInput object at 0x00000277017F5CC0>, 'sel_exog': <azure.ai.ml.entities._job.pipeline._io.base.NodeInput object at 0x00000277017F7640>, 'registered_model_name': <azure.ai.ml.entities._job.pipeline._io.base.NodeInput object at 0x00000277017F5810>}, 'outputs': {'model': <azure.ai.ml.entities._job.pipeline._io.base.NodeOutput object at 0x0000027701C424D0>}, 'component': 'train_and_select_blacksmith_model:2023-07-19-04-02-18-4290380', 'referenced_control_flow_node_instance_id': None, 'kwargs': {'services': None}, 'instance_id': 'e624f0a8-c6e0-4111-a7a6-67e096614050', 'source': 'REMOTE.WORKSPACE.COMPONENT', 'validate_required_input_not_provided': True, 'limits': None, 'identity': None, 'distribution': None, 'environment_variables': {}, 'environment': None, 'resources': {'instance_count': 1}, 'queue_settings': None, 'swept': False}), 'predict_job': Command({'parameters': {}, 'init': False, 'name': 'predict_job', 'type': 'command', 'status': None, 'log_files': None, 'description': None, 'tags': {}, 'properties': {}, 'print_as_yaml': True, 'id': None, 'Resource__source_path': None, 'base_path': 'c:\\\\repos\\\\prueba-loteria-blacksmith\\\\src', 'creation_context': None, 'serialize': <msrest.serialization.Serializer object at 0x00000277017F6590>, 'allowed_keys': {}, 'key_restriction': False, 'logger': <Logger attr_dict (WARNING)>, 'display_name': None, 'experiment_name': None, 'compute': None, 'services': None, 'comment': None, 'job_inputs': {'model_path': '${{parent.jobs.train_job.outputs.model}}', 'test_data': '${{parent.jobs.data_prep_job.outputs.test_data}}', 'model_name': '${{parent.inputs.pipeline_job_registered_model_name}}', 'steps': '${{parent.inputs.pipeline_job_test_steps}}'}, 'job_outputs': {'predict_output': '${{parent.outputs.pipeline_predict_output}}'}, 'inputs': {'model_path': <azure.ai.ml.entities._job.pipeline._io.base.NodeInput object at 0x00000277017F5840>, 'test_data': <azure.ai.ml.entities._job.pipeline._io.base.NodeInput object at 0x00000277017F7D00>, 'model_name': <azure.ai.ml.entities._job.pipeline._io.base.NodeInput object at 0x00000277017F59C0>, 'steps': <azure.ai.ml.entities._job.pipeline._io.base.NodeInput object at 0x00000277017F6A40>}, 'outputs': {'predict_output': <azure.ai.ml.entities._job.pipeline._io.base.NodeOutput object at 0x00000277017F60B0>}, 'component': 'forecasting_lotery_blacksmith:2023-07-19-05-31-44-7216280', 'referenced_control_flow_node_instance_id': None, 'kwargs': {'services': None}, 'instance_id': '09fcd422-d535-4db6-98b5-bb8ad1cb0863', 'source': 'REMOTE.WORKSPACE.COMPONENT', 'validate_required_input_not_provided': True, 'limits': None, 'identity': None, 'distribution': None, 'environment_variables': {}, 'environment': None, 'resources': {'instance_count': 1}, 'queue_settings': None, 'swept': False})}, 'job_types': {'command': 3}, 'job_sources': {'REMOTE.WORKSPACE.COMPONENT': 3}, 'source_job_id': None}), 'type': 'pipeline', 'status': 'Preparing', 'log_files': None, 'name': 'modest_spring_3d4wg9dz7w', 'description': 'E2E pipeline for data preprocessing, training and selecting the best forecasting model', 'tags': {}, 'properties': {'mlflow.source.git.repoURL': 'https://github.com/AndresR2909/prueba-loteria-blacksmith.git', 'mlflow.source.git.branch': 'master', 'mlflow.source.git.commit': '3a700ae20d442bd9c218c3f07e8f39c9f2e1e797', 'azureml.git.dirty': 'True', 'azureml.DevPlatv2': 'true', 'azureml.DatasetAccessMode': 'Asset', 'azureml.runsource': 'azureml.PipelineRun', 'runSource': 'MFE', 'runType': 'HTTP', 'azureml.parameters': '{\"pipeline_job_test_steps\":\"7\",\"pipeline_job_index_column\":\"FechaTx\",\"pipeline_job_target_column\":\"Cantidad\",\"pipeline_job_filter_column\":\"CodSDV\",\"pipeline_job_filter_value\":\"109216\",\"pipeline_job_del_columns\":\"IdCliente,NomProducto,CodProducto\",\"pipeline_job_lags_grid\":\"7,21,60\",\"pipeline_job_sel_exog\":\"Mes,Dia,media_movil\",\"pipeline_job_registered_model_name\":\"lotery-blacksmith-109216\"}', 'azureml.continue_on_step_failure': 'True', 'azureml.continue_on_failed_optional_input': 'True', 'azureml.enforceRerun': 'False', 'azureml.defaultComputeName': 'dedicated-cluster', 'azureml.defaultDataStoreName': 'workspaceblobstore', 'azureml.pipelineComponent': 'pipelinerun'}, 'print_as_yaml': True, 'id': '/subscriptions/dc213d49-9972-4e9e-a634-246cefdc8655/resourceGroups/rg-test-loteriablacksmith/providers/Microsoft.MachineLearningServices/workspaces/aml-test-loteriablacksmith/jobs/modest_spring_3d4wg9dz7w', 'Resource__source_path': None, 'base_path': 'c:\\\\repos\\\\prueba-loteria-blacksmith\\\\src', 'creation_context': <azure.ai.ml.entities._system_data.SystemData object at 0x00000277017F5A20>, 'serialize': <msrest.serialization.Serializer object at 0x00000277017F59F0>, 'display_name': 'lotery_blacksmith_pipeline', 'experiment_name': 'lotery-blacksmith-best-model-109216', 'compute': 'dedicated-cluster', 'services': {'Tracking': {'endpoint': 'azureml://eastus.api.azureml.ms/mlflow/v1.0/subscriptions/dc213d49-9972-4e9e-a634-246cefdc8655/resourceGroups/rg-test-loteriablacksmith/providers/Microsoft.MachineLearningServices/workspaces/aml-test-loteriablacksmith?', 'type': 'Tracking'}, 'Studio': {'endpoint': 'https://ml.azure.com/runs/modest_spring_3d4wg9dz7w?wsid=/subscriptions/dc213d49-9972-4e9e-a634-246cefdc8655/resourcegroups/rg-test-loteriablacksmith/workspaces/aml-test-loteriablacksmith&tid=a21f4c27-33e5-4cad-a1ff-6167bd9f9a45', 'type': 'Studio'}}, 'settings': {}, 'identity': None, 'default_code': None, 'default_environment': None})"
            ]
          },
          "execution_count": 136,
          "metadata": {},
          "output_type": "execute_result"
        }
      ],
      "source": [
        "run_job(data_path)"
      ]
    },
    {
      "cell_type": "code",
      "execution_count": 131,
      "metadata": {},
      "outputs": [],
      "source": [
        "top_cod_sdv = ['109216','123340','106061','3036101','128117','130756','106296','106730','106738','106599','107500','108390','108113',\n",
        " '143979','127500','107506','123389','106365','106496','107268','129550','113407','106292','144393','133872']"
      ]
    },
    {
      "cell_type": "code",
      "execution_count": null,
      "metadata": {},
      "outputs": [],
      "source": [
        "for cod_sdv in top_cod_sdv:\n",
        "    run_job(data_path,filter_value = int(cod_sdv))"
      ]
    }
  ],
  "metadata": {
    "categories": [
      "SDK v2",
      "tutorials"
    ],
    "celltoolbar": "Edit Metadata",
    "description": {
      "description": "Create production ML pipelines with Python SDK v2 in a Jupyter notebook"
    },
    "kernelspec": {
      "display_name": "Python 3",
      "language": "python",
      "name": "python3"
    },
    "language_info": {
      "codemirror_mode": {
        "name": "ipython",
        "version": 3
      },
      "file_extension": ".py",
      "mimetype": "text/x-python",
      "name": "python",
      "nbconvert_exporter": "python",
      "pygments_lexer": "ipython3",
      "version": "3.10.12"
    },
    "nteract": {
      "version": "nteract-front-end@1.0.0"
    }
  },
  "nbformat": 4,
  "nbformat_minor": 1
}
